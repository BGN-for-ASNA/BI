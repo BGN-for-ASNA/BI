{
 "cells": [
  {
   "cell_type": "markdown",
   "metadata": {
    "isInteractiveWindowMessageCell": true
   },
   "source": [
    "Restarted Python 3.10.12"
   ]
  },
  {
   "cell_type": "code",
   "execution_count": 1,
   "metadata": {},
   "outputs": [
    {
     "name": "stderr",
     "output_type": "stream",
     "text": [
      "2024-01-31 09:02:40.870748: I tensorflow/core/util/port.cc:113] oneDNN custom operations are on. You may see slightly different numerical results due to floating-point round-off errors from different computation orders. To turn them off, set the environment variable `TF_ENABLE_ONEDNN_OPTS=0`.\n",
      "2024-01-31 09:02:40.889589: E external/local_xla/xla/stream_executor/cuda/cuda_dnn.cc:9261] Unable to register cuDNN factory: Attempting to register factory for plugin cuDNN when one has already been registered\n",
      "2024-01-31 09:02:40.889605: E external/local_xla/xla/stream_executor/cuda/cuda_fft.cc:607] Unable to register cuFFT factory: Attempting to register factory for plugin cuFFT when one has already been registered\n",
      "2024-01-31 09:02:40.890081: E external/local_xla/xla/stream_executor/cuda/cuda_blas.cc:1515] Unable to register cuBLAS factory: Attempting to register factory for plugin cuBLAS when one has already been registered\n",
      "2024-01-31 09:02:40.893542: I tensorflow/core/platform/cpu_feature_guard.cc:182] This TensorFlow binary is optimized to use available CPU instructions in performance-critical operations.\n",
      "To enable the following instructions: AVX2 AVX_VNNI FMA, in other operations, rebuild TensorFlow with the appropriate compiler flags.\n",
      "2024-01-31 09:02:41.254593: W tensorflow/compiler/tf2tensorrt/utils/py_utils.cc:38] TF-TRT Warning: Could not find TensorRT\n",
      "2024-01-31 09:02:42.021638: I external/local_xla/xla/stream_executor/cuda/cuda_executor.cc:887] could not open file to read NUMA node: /sys/bus/pci/devices/0000:01:00.0/numa_node\n",
      "Your kernel may have been built without NUMA support.\n",
      "2024-01-31 09:02:42.037797: I external/local_xla/xla/stream_executor/cuda/cuda_executor.cc:887] could not open file to read NUMA node: /sys/bus/pci/devices/0000:01:00.0/numa_node\n",
      "Your kernel may have been built without NUMA support.\n",
      "2024-01-31 09:02:42.037830: I external/local_xla/xla/stream_executor/cuda/cuda_executor.cc:887] could not open file to read NUMA node: /sys/bus/pci/devices/0000:01:00.0/numa_node\n",
      "Your kernel may have been built without NUMA support.\n",
      "2024-01-31 09:02:42.043094: I external/local_xla/xla/stream_executor/cuda/cuda_executor.cc:887] could not open file to read NUMA node: /sys/bus/pci/devices/0000:01:00.0/numa_node\n",
      "Your kernel may have been built without NUMA support.\n",
      "2024-01-31 09:02:42.043138: I external/local_xla/xla/stream_executor/cuda/cuda_executor.cc:887] could not open file to read NUMA node: /sys/bus/pci/devices/0000:01:00.0/numa_node\n",
      "Your kernel may have been built without NUMA support.\n",
      "2024-01-31 09:02:42.043152: I external/local_xla/xla/stream_executor/cuda/cuda_executor.cc:887] could not open file to read NUMA node: /sys/bus/pci/devices/0000:01:00.0/numa_node\n",
      "Your kernel may have been built without NUMA support.\n",
      "2024-01-31 09:02:42.237936: I external/local_xla/xla/stream_executor/cuda/cuda_executor.cc:887] could not open file to read NUMA node: /sys/bus/pci/devices/0000:01:00.0/numa_node\n",
      "Your kernel may have been built without NUMA support.\n",
      "2024-01-31 09:02:42.237972: I external/local_xla/xla/stream_executor/cuda/cuda_executor.cc:887] could not open file to read NUMA node: /sys/bus/pci/devices/0000:01:00.0/numa_node\n",
      "Your kernel may have been built without NUMA support.\n",
      "2024-01-31 09:02:42.237977: I tensorflow/core/common_runtime/gpu/gpu_device.cc:2022] Could not identify NUMA node of platform GPU id 0, defaulting to 0.  Your kernel may not have been built with NUMA support.\n",
      "2024-01-31 09:02:42.237998: I external/local_xla/xla/stream_executor/cuda/cuda_executor.cc:887] could not open file to read NUMA node: /sys/bus/pci/devices/0000:01:00.0/numa_node\n",
      "Your kernel may have been built without NUMA support.\n",
      "2024-01-31 09:02:42.238015: I tensorflow/core/common_runtime/gpu/gpu_device.cc:1929] Created device /job:localhost/replica:0/task:0/device:GPU:0 with 5679 MB memory:  -> device: 0, name: NVIDIA GeForce RTX 3050 OEM, pci bus id: 0000:01:00.0, compute capability: 8.6\n"
     ]
    },
    {
     "data": {
      "text/plain": [
       "<tfp.distributions.JointDistributionNamed 'JointDistributionNamed' batch_shape={alpha: [], alpha2: [], beta: [], beta2: [], s: [], s2: [], y: [], z: []} event_shape={alpha: [1], alpha2: [1], beta: [1], beta2: [1], s: [1], s2: [1], y: [1], z: [1]} dtype={alpha: float32, alpha2: float32, beta: float32, beta2: float32, s: float32, s2: float32, y: float32, z: float32}>"
      ]
     },
     "execution_count": 1,
     "metadata": {},
     "output_type": "execute_result"
    }
   ],
   "source": [
    "from  main import *\n",
    "formula = dict(main = 'y~Normal(m,s)',\n",
    "            likelihood = 'm ~  alpha + beta',\n",
    "            prior1 = 's~Exponential(1)',\n",
    "            prior2 = 'alpha ~ Normal(0,1)',\n",
    "            prior3 = 'beta ~ Normal(0,1)',\n",
    "            \n",
    "            main1 = 'z~Normal(m2,s2)',\n",
    "            likelihood2 = 'm2 ~ alpha2 + beta2',\n",
    "            prior4 = 's2~Exponential(1)',\n",
    "            prior5 = 'alpha2 ~ Normal(0,1)',\n",
    "            prior6 = 'beta2 ~ Normal(0,1)') \n",
    "m = model(formula= formula)\n",
    "m.sample(10)\n",
    "m.tensor"
   ]
  },
  {
   "cell_type": "code",
   "execution_count": 2,
   "metadata": {},
   "outputs": [
    {
     "data": {
      "text/plain": [
       "{'s2': <tf.Tensor: shape=(10, 1), dtype=float32, numpy=\n",
       " array([[1.0119815 ],\n",
       "        [0.5368687 ],\n",
       "        [0.23798797],\n",
       "        [2.6394184 ],\n",
       "        [2.2930307 ],\n",
       "        [2.3857243 ],\n",
       "        [0.48907256],\n",
       "        [0.26716697],\n",
       "        [0.6238974 ],\n",
       "        [0.16057445]], dtype=float32)>,\n",
       " 'beta2': <tf.Tensor: shape=(10, 1), dtype=float32, numpy=\n",
       " array([[ 0.6270838 ],\n",
       "        [ 0.29314154],\n",
       "        [-0.5856371 ],\n",
       "        [-0.0296457 ],\n",
       "        [-0.640067  ],\n",
       "        [-1.3967685 ],\n",
       "        [-1.2488045 ],\n",
       "        [-0.09988479],\n",
       "        [-1.0685792 ],\n",
       "        [ 0.80748993]], dtype=float32)>,\n",
       " 'alpha2': <tf.Tensor: shape=(10, 1), dtype=float32, numpy=\n",
       " array([[ 1.4661463 ],\n",
       "        [-0.33613828],\n",
       "        [-1.8053781 ],\n",
       "        [-0.3145417 ],\n",
       "        [-0.5770143 ],\n",
       "        [-0.96876055],\n",
       "        [ 0.01727881],\n",
       "        [-1.6199218 ],\n",
       "        [ 1.3211194 ],\n",
       "        [ 0.30712003]], dtype=float32)>,\n",
       " 'z': <tf.Tensor: shape=(10, 1), dtype=float32, numpy=\n",
       " array([[ 2.258665  ],\n",
       "        [-0.53741306],\n",
       "        [-2.6866508 ],\n",
       "        [ 1.5541958 ],\n",
       "        [-0.67162067],\n",
       "        [-2.892816  ],\n",
       "        [-0.20366848],\n",
       "        [-1.720845  ],\n",
       "        [-0.32993948],\n",
       "        [ 1.065566  ]], dtype=float32)>,\n",
       " 's': <tf.Tensor: shape=(10, 1), dtype=float32, numpy=\n",
       " array([[0.46329135],\n",
       "        [4.3935328 ],\n",
       "        [1.0317383 ],\n",
       "        [1.8793476 ],\n",
       "        [0.29858586],\n",
       "        [0.59398925],\n",
       "        [0.8932685 ],\n",
       "        [0.56882197],\n",
       "        [0.8490266 ],\n",
       "        [3.0069804 ]], dtype=float32)>,\n",
       " 'beta': <tf.Tensor: shape=(10, 1), dtype=float32, numpy=\n",
       " array([[-1.193637  ],\n",
       "        [-0.72135997],\n",
       "        [-0.0517626 ],\n",
       "        [-0.97963125],\n",
       "        [ 1.5264254 ],\n",
       "        [-0.09796761],\n",
       "        [ 1.5783868 ],\n",
       "        [-1.7542514 ],\n",
       "        [-0.62186587],\n",
       "        [ 1.3520536 ]], dtype=float32)>,\n",
       " 'alpha': <tf.Tensor: shape=(10, 1), dtype=float32, numpy=\n",
       " array([[ 0.4961945 ],\n",
       "        [ 0.3913282 ],\n",
       "        [ 0.08352894],\n",
       "        [ 0.31330913],\n",
       "        [-0.52027345],\n",
       "        [-1.8242447 ],\n",
       "        [ 0.0708603 ],\n",
       "        [ 1.2028918 ],\n",
       "        [ 0.12537886],\n",
       "        [-2.0368307 ]], dtype=float32)>,\n",
       " 'y': <tf.Tensor: shape=(10, 1), dtype=float32, numpy=\n",
       " array([[-1.5318848 ],\n",
       "        [-4.4643283 ],\n",
       "        [ 1.2365255 ],\n",
       "        [-1.8645803 ],\n",
       "        [ 0.6215993 ],\n",
       "        [-2.3315747 ],\n",
       "        [ 2.3573859 ],\n",
       "        [-0.71275115],\n",
       "        [-0.16906258],\n",
       "        [ 1.3941224 ]], dtype=float32)>}"
      ]
     },
     "execution_count": 2,
     "metadata": {},
     "output_type": "execute_result"
    }
   ],
   "source": [
    "m.sample(10)"
   ]
  }
 ],
 "metadata": {
  "kernelspec": {
   "display_name": "Python 3",
   "language": "python",
   "name": "python3"
  },
  "language_info": {
   "codemirror_mode": {
    "name": "ipython",
    "version": 3
   },
   "file_extension": ".py",
   "mimetype": "text/x-python",
   "name": "python",
   "nbconvert_exporter": "python",
   "pygments_lexer": "ipython3",
   "version": "3.10.12"
  }
 },
 "nbformat": 4,
 "nbformat_minor": 2
}
