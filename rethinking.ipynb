{
 "cells": [
  {
   "cell_type": "markdown",
   "metadata": {},
   "source": [
    "**Table of contents**<a id='toc0_'></a>    \n",
    "- [Notes](#toc1_)    \n",
    "  - [To do](#toc1_1_)    \n",
    "- [Package instalation](#toc2_)    \n",
    "- [Test No data frame single likelihood](#toc3_)    \n",
    "- [Test without data frame & with multiple likelihood](#toc4_)    \n",
    "- [Test with data frame in likelihood](#toc5_)    \n",
    "- [Indices](#toc6_)    \n",
    "- [Model comparaison](#toc7_)    \n",
    "- [Multiple indices](#toc8_)    \n",
    "- [ Categorical interactions](#toc9_)    \n",
    "- [ Continuous interactions](#toc10_)    \n",
    "- [Binomial model](#toc11_)    \n",
    "- [Binomial with index](#toc12_)    \n",
    "- [Poisson](#toc13_)    \n",
    "- [This doesn't work](#toc14_)    \n",
    "- [Negative binomial](#toc15_)    \n",
    "- [Multinomial](#toc16_)    \n",
    "  - [Categorical models](#toc16_1_)    \n",
    "  - [Multinomial in disguise as Poisson](#toc16_2_)    \n",
    "\n",
    "<!-- vscode-jupyter-toc-config\n",
    "\tnumbering=false\n",
    "\tanchor=true\n",
    "\tflat=false\n",
    "\tminLevel=1\n",
    "\tmaxLevel=6\n",
    "\t/vscode-jupyter-toc-config -->\n",
    "<!-- THIS CELL WILL BE REPLACED ON TOC UPDATE. DO NOT WRITE YOUR TEXT IN THIS CELL -->"
   ]
  },
  {
   "cell_type": "markdown",
   "metadata": {},
   "source": [
    "# <a id='toc1_'></a>[Notes](#toc0_)"
   ]
  },
  {
   "cell_type": "markdown",
   "metadata": {},
   "source": [
    "- Gpu computation is not always better, it depends of your model size: https://stackoverflow.com/questions/55749899/training-a-simple-model-in-tensorflow-gpu-slower-than-cpu\n",
    "\n",
    "- Depending on the float precision model outputs may differ.\n"
   ]
  },
  {
   "cell_type": "markdown",
   "metadata": {},
   "source": [
    "## <a id='toc1_1_'></a>[To do](#toc0_)\n",
    "    1.  Allow mathematical operation within formula\n",
    "    2.  Redo GUI\n",
    "    3.  Help functions\n",
    "    4.  Documentation\n",
    "    5.  Multinomial models to be run with Multinomial distribution\n",
    "    6.  Multiple likelihoods can have different types: independent models -> independent HMC, dependent priors -> \n",
    "    7.  single HMC which need to be evaluated by looking at all mais infos.\n",
    "    8.  Priors can have args and kwargs\n",
    "\n",
    "Current WIP BetaBinomial, require to handle multiple likelihoods"
   ]
  },
  {
   "cell_type": "markdown",
   "metadata": {},
   "source": [
    "# <a id='toc2_'></a>[Package instalation](#toc0_)"
   ]
  },
  {
   "cell_type": "code",
   "execution_count": null,
   "metadata": {},
   "outputs": [],
   "source": [
    "try:\n",
    "  %pip install tensorflow tensorflow_probability pandas numpy arviz seaborn functools matplotlib.pyplot\n",
    "  %pip install git+https://github.com/BGN-for-ASNA/BI.git\n",
    "except:\n",
    "  pass"
   ]
  },
  {
   "cell_type": "markdown",
   "metadata": {},
   "source": [
    "# <a id='toc3_'></a>[Test No data frame single likelihood](#toc0_)"
   ]
  },
  {
   "cell_type": "code",
   "execution_count": 116,
   "metadata": {},
   "outputs": [
    {
     "data": {
      "text/plain": [
       "{'s': <tfp.distributions.Sample 'Sampleprior1' batch_shape=[] event_shape=[1] dtype=float16>,\n",
       " 'alpha': <tfp.distributions.Sample 'Sampleprior2' batch_shape=[] event_shape=[1] dtype=float16>,\n",
       " 'beta': <tfp.distributions.Sample 'Sampleprior3' batch_shape=[] event_shape=[1] dtype=float16>,\n",
       " 'y': <function <lambda>(s, alpha, beta)>}"
      ]
     },
     "execution_count": 116,
     "metadata": {},
     "output_type": "execute_result"
    }
   ],
   "source": [
    "from  main import *\n",
    "formula = dict(main = 'y~Normal(m,s)',\n",
    "            likelihood = 'm ~  alpha + beta',\n",
    "            prior1 = 's~Exponential(1)',\n",
    "            prior2 = 'alpha ~ Normal(0,1)',\n",
    "            prior3 = 'beta ~ Normal(0,1)')  \n",
    "self = model(formula= formula, float = 16) \n",
    "self.sample()\n",
    "self.tensor_dict"
   ]
  },
  {
   "cell_type": "code",
   "execution_count": 119,
   "metadata": {},
   "outputs": [
    {
     "data": {
      "text/plain": [
       "{'y': 'lambda s, alpha, beta: tfd.Independent(tfd.Normal(alpha+beta,s,), reinterpreted_batch_ndims=1)'}"
      ]
     },
     "execution_count": 119,
     "metadata": {},
     "output_type": "execute_result"
    }
   ],
   "source": [
    "self.main_text"
   ]
  },
  {
   "cell_type": "markdown",
   "metadata": {},
   "source": [
    "# <a id='toc4_'></a>[Test without data frame & with multiple likelihood](#toc0_)"
   ]
  },
  {
   "cell_type": "code",
   "execution_count": 5,
   "metadata": {},
   "outputs": [
    {
     "name": "stderr",
     "output_type": "stream",
     "text": [
      "2024-02-08 14:06:21.264485: I external/local_xla/xla/stream_executor/cuda/cuda_executor.cc:887] could not open file to read NUMA node: /sys/bus/pci/devices/0000:01:00.0/numa_node\n",
      "Your kernel may have been built without NUMA support.\n",
      "2024-02-08 14:06:21.264546: I external/local_xla/xla/stream_executor/cuda/cuda_executor.cc:887] could not open file to read NUMA node: /sys/bus/pci/devices/0000:01:00.0/numa_node\n",
      "Your kernel may have been built without NUMA support.\n",
      "2024-02-08 14:06:21.264564: I external/local_xla/xla/stream_executor/cuda/cuda_executor.cc:887] could not open file to read NUMA node: /sys/bus/pci/devices/0000:01:00.0/numa_node\n",
      "Your kernel may have been built without NUMA support.\n",
      "2024-02-08 14:06:21.264794: I external/local_xla/xla/stream_executor/cuda/cuda_executor.cc:887] could not open file to read NUMA node: /sys/bus/pci/devices/0000:01:00.0/numa_node\n",
      "Your kernel may have been built without NUMA support.\n",
      "2024-02-08 14:06:21.264808: I tensorflow/core/common_runtime/gpu/gpu_device.cc:2022] Could not identify NUMA node of platform GPU id 0, defaulting to 0.  Your kernel may not have been built with NUMA support.\n",
      "2024-02-08 14:06:21.264832: I external/local_xla/xla/stream_executor/cuda/cuda_executor.cc:887] could not open file to read NUMA node: /sys/bus/pci/devices/0000:01:00.0/numa_node\n",
      "Your kernel may have been built without NUMA support.\n",
      "2024-02-08 14:06:21.264858: I tensorflow/core/common_runtime/gpu/gpu_device.cc:1929] Created device /device:GPU:0 with 5679 MB memory:  -> device: 0, name: NVIDIA GeForce RTX 3050 OEM, pci bus id: 0000:01:00.0, compute capability: 8.6\n"
     ]
    },
    {
     "data": {
      "text/plain": [
       "<tf.Tensor: shape=(10,), dtype=float16, numpy=\n",
       "array([-10.31 , -18.36 ,  -5.246, -12.984, -11.24 , -10.94 , -15.7  ,\n",
       "        -3.686, -19.   ,  -8.336], dtype=float16)>"
      ]
     },
     "execution_count": 5,
     "metadata": {},
     "output_type": "execute_result"
    }
   ],
   "source": [
    "from  main import *\n",
    "formula = dict(main = 'y~Normal(m,s)',\n",
    "            likelihood = 'm ~  alpha + beta',\n",
    "            prior1 = 's~Exponential(1)',\n",
    "            prior2 = 'alpha ~ Normal(0,1)',\n",
    "            prior3 = 'beta ~ Normal(0,1)',\n",
    "            \n",
    "            main1 = 'z~Normal(m2,s2)',\n",
    "            likelihood2 = 'm2 ~ alpha2 + beta2',\n",
    "            prior4 = 's2~Exponential(1)',\n",
    "            prior5 = 'alpha2 ~ Normal(0,1)',\n",
    "            prior6 = 'beta2 ~ Normal(0,1)') \n",
    "self = model(formula= formula, float = 16)\n",
    "self.log_prob(self.sample(10))"
   ]
  },
  {
   "cell_type": "markdown",
   "metadata": {},
   "source": [
    "# <a id='toc5_'></a>[Test with data frame in likelihood](#toc0_)"
   ]
  },
  {
   "cell_type": "code",
   "execution_count": 2,
   "metadata": {},
   "outputs": [
    {
     "name": "stderr",
     "output_type": "stream",
     "text": [
      "2024-02-08 09:53:58.314636: I external/local_xla/xla/stream_executor/cuda/cuda_executor.cc:887] could not open file to read NUMA node: /sys/bus/pci/devices/0000:01:00.0/numa_node\n",
      "Your kernel may have been built without NUMA support.\n",
      "2024-02-08 09:53:58.314702: I external/local_xla/xla/stream_executor/cuda/cuda_executor.cc:887] could not open file to read NUMA node: /sys/bus/pci/devices/0000:01:00.0/numa_node\n",
      "Your kernel may have been built without NUMA support.\n",
      "2024-02-08 09:53:58.314716: I external/local_xla/xla/stream_executor/cuda/cuda_executor.cc:887] could not open file to read NUMA node: /sys/bus/pci/devices/0000:01:00.0/numa_node\n",
      "Your kernel may have been built without NUMA support.\n",
      "2024-02-08 09:53:58.314935: I external/local_xla/xla/stream_executor/cuda/cuda_executor.cc:887] could not open file to read NUMA node: /sys/bus/pci/devices/0000:01:00.0/numa_node\n",
      "Your kernel may have been built without NUMA support.\n",
      "2024-02-08 09:53:58.314948: I tensorflow/core/common_runtime/gpu/gpu_device.cc:2022] Could not identify NUMA node of platform GPU id 0, defaulting to 0.  Your kernel may not have been built with NUMA support.\n",
      "2024-02-08 09:53:58.314970: I external/local_xla/xla/stream_executor/cuda/cuda_executor.cc:887] could not open file to read NUMA node: /sys/bus/pci/devices/0000:01:00.0/numa_node\n",
      "Your kernel may have been built without NUMA support.\n",
      "2024-02-08 09:53:58.314985: I tensorflow/core/common_runtime/gpu/gpu_device.cc:1929] Created device /device:GPU:0 with 5679 MB memory:  -> device: 0, name: NVIDIA GeForce RTX 3050 OEM, pci bus id: 0000:01:00.0, compute capability: 8.6\n"
     ]
    },
    {
     "name": "stdout",
     "output_type": "stream",
     "text": [
      "tensor DICT:\n",
      "{'sigma': <tfp.distributions.Sample 'SampleUniform' batch_shape=[] event_shape=[1] dtype=float32>, 'alpha': <tfp.distributions.Sample 'SampleNormal' batch_shape=[] event_shape=[1] dtype=float32>, 'beta': <tfp.distributions.Sample 'SampleNormal' batch_shape=[] event_shape=[1] dtype=float32>, 'height': <function <lambda> at 0x7fdd91a78ee0>}\n",
      "tensor likelihoods:\n",
      "{'height': 'lambda sigma, alpha, beta: tfd.Independent(tfd.Normal(alpha+beta*df.weight.values,sigma,), reinterpreted_batch_ndims=1)'}\n"
     ]
    },
    {
     "data": {
      "text/html": [
       "<div>\n",
       "<style scoped>\n",
       "    .dataframe tbody tr th:only-of-type {\n",
       "        vertical-align: middle;\n",
       "    }\n",
       "\n",
       "    .dataframe tbody tr th {\n",
       "        vertical-align: top;\n",
       "    }\n",
       "\n",
       "    .dataframe thead th {\n",
       "        text-align: right;\n",
       "    }\n",
       "</style>\n",
       "<table border=\"1\" class=\"dataframe\">\n",
       "  <thead>\n",
       "    <tr style=\"text-align: right;\">\n",
       "      <th></th>\n",
       "      <th>mean</th>\n",
       "      <th>sd</th>\n",
       "      <th>hdi_5.5%</th>\n",
       "      <th>hdi_94.5%</th>\n",
       "    </tr>\n",
       "  </thead>\n",
       "  <tbody>\n",
       "    <tr>\n",
       "      <th>sigma[0]</th>\n",
       "      <td>5.15</td>\n",
       "      <td>0.20</td>\n",
       "      <td>4.84</td>\n",
       "      <td>5.47</td>\n",
       "    </tr>\n",
       "    <tr>\n",
       "      <th>beta[0]</th>\n",
       "      <td>0.90</td>\n",
       "      <td>0.04</td>\n",
       "      <td>0.84</td>\n",
       "      <td>0.98</td>\n",
       "    </tr>\n",
       "    <tr>\n",
       "      <th>alpha[0]</th>\n",
       "      <td>154.64</td>\n",
       "      <td>0.28</td>\n",
       "      <td>154.19</td>\n",
       "      <td>155.08</td>\n",
       "    </tr>\n",
       "  </tbody>\n",
       "</table>\n",
       "</div>"
      ],
      "text/plain": [
       "            mean    sd  hdi_5.5%  hdi_94.5%\n",
       "sigma[0]    5.15  0.20      4.84       5.47\n",
       "beta[0]     0.90  0.04      0.84       0.98\n",
       "alpha[0]  154.64  0.28    154.19     155.08"
      ]
     },
     "execution_count": 2,
     "metadata": {},
     "output_type": "execute_result"
    }
   ],
   "source": [
    "from  main import *\n",
    "## Model m4.3\n",
    "d = pd.read_csv('./data/Howell1.csv', sep=';')\n",
    "d = d[d.age > 18]\n",
    "#self.df[\"weight.per.g\"].pipe(lambda x: (x - x.mean()) / x.std())\n",
    "d.weight = d.weight - d.weight.mean()\n",
    "d.age = d.age - d.age.mean()\n",
    "formula = dict(main1 = 'height ~ Normal(mu,sigma)',\n",
    "            likelihood = 'mu ~ alpha + beta * weight',\n",
    "            prior1 = 'sigma ~ Uniform(0,50)',\n",
    "            prior2 = 'alpha ~ Normal(178,20)',\n",
    "            prior3 = 'beta ~ Normal(0,1)')    \n",
    "\n",
    "self = model(formula, df = d, float = 32)\n",
    "print('tensor DICT:')\n",
    "print(self.tensor_dict)\n",
    "print('tensor likelihoods:')\n",
    "print(self.main_text)\n",
    "self.fit(observed_data = dict(height =d.height.astype('float32').values),\n",
    "                                           num_results = 2000, num_burnin_steps=500, num_adaptation_steps=400, num_chains=4)\n",
    "self.summary()\n",
    "\n",
    "# expected \n",
    "#           Mean    StdDev  5.5%    94.5%   a   b   sigma\n",
    "#   a       154.60  0.27    154.17  155.03  1   0   0\n",
    "#   b       0.91    0.04    0.84    0.97    0   1   0\n",
    "#   sigma   5.07    0.19    4.77    5.38    0   0   1"
   ]
  },
  {
   "cell_type": "markdown",
   "metadata": {},
   "source": [
    "# <a id='toc6_'></a>[Indices](#toc0_)"
   ]
  },
  {
   "cell_type": "code",
   "execution_count": 3,
   "metadata": {},
   "outputs": [
    {
     "name": "stderr",
     "output_type": "stream",
     "text": [
      "2024-02-08 09:54:03.932373: I external/local_xla/xla/stream_executor/cuda/cuda_executor.cc:887] could not open file to read NUMA node: /sys/bus/pci/devices/0000:01:00.0/numa_node\n",
      "Your kernel may have been built without NUMA support.\n",
      "2024-02-08 09:54:03.932424: I external/local_xla/xla/stream_executor/cuda/cuda_executor.cc:887] could not open file to read NUMA node: /sys/bus/pci/devices/0000:01:00.0/numa_node\n",
      "Your kernel may have been built without NUMA support.\n",
      "2024-02-08 09:54:03.932438: I external/local_xla/xla/stream_executor/cuda/cuda_executor.cc:887] could not open file to read NUMA node: /sys/bus/pci/devices/0000:01:00.0/numa_node\n",
      "Your kernel may have been built without NUMA support.\n",
      "2024-02-08 09:54:03.932568: I external/local_xla/xla/stream_executor/cuda/cuda_executor.cc:887] could not open file to read NUMA node: /sys/bus/pci/devices/0000:01:00.0/numa_node\n",
      "Your kernel may have been built without NUMA support.\n",
      "2024-02-08 09:54:03.932574: I tensorflow/core/common_runtime/gpu/gpu_device.cc:2022] Could not identify NUMA node of platform GPU id 0, defaulting to 0.  Your kernel may not have been built with NUMA support.\n",
      "2024-02-08 09:54:03.932588: I external/local_xla/xla/stream_executor/cuda/cuda_executor.cc:887] could not open file to read NUMA node: /sys/bus/pci/devices/0000:01:00.0/numa_node\n",
      "Your kernel may have been built without NUMA support.\n",
      "2024-02-08 09:54:03.932600: I tensorflow/core/common_runtime/gpu/gpu_device.cc:1929] Created device /device:GPU:0 with 5679 MB memory:  -> device: 0, name: NVIDIA GeForce RTX 3050 OEM, pci bus id: 0000:01:00.0, compute capability: 8.6\n"
     ]
    },
    {
     "data": {
      "text/html": [
       "<div>\n",
       "<style scoped>\n",
       "    .dataframe tbody tr th:only-of-type {\n",
       "        vertical-align: middle;\n",
       "    }\n",
       "\n",
       "    .dataframe tbody tr th {\n",
       "        vertical-align: top;\n",
       "    }\n",
       "\n",
       "    .dataframe thead th {\n",
       "        text-align: right;\n",
       "    }\n",
       "</style>\n",
       "<table border=\"1\" class=\"dataframe\">\n",
       "  <thead>\n",
       "    <tr style=\"text-align: right;\">\n",
       "      <th></th>\n",
       "      <th>mean</th>\n",
       "      <th>sd</th>\n",
       "      <th>hdi_5.5%</th>\n",
       "      <th>hdi_94.5%</th>\n",
       "    </tr>\n",
       "  </thead>\n",
       "  <tbody>\n",
       "    <tr>\n",
       "      <th>sigma[0]</th>\n",
       "      <td>0.80</td>\n",
       "      <td>0.12</td>\n",
       "      <td>0.61</td>\n",
       "      <td>0.97</td>\n",
       "    </tr>\n",
       "    <tr>\n",
       "      <th>alpha[0]</th>\n",
       "      <td>-0.47</td>\n",
       "      <td>0.25</td>\n",
       "      <td>-0.88</td>\n",
       "      <td>-0.08</td>\n",
       "    </tr>\n",
       "    <tr>\n",
       "      <th>alpha[1]</th>\n",
       "      <td>0.35</td>\n",
       "      <td>0.24</td>\n",
       "      <td>-0.03</td>\n",
       "      <td>0.72</td>\n",
       "    </tr>\n",
       "    <tr>\n",
       "      <th>alpha[2]</th>\n",
       "      <td>0.64</td>\n",
       "      <td>0.28</td>\n",
       "      <td>0.19</td>\n",
       "      <td>1.08</td>\n",
       "    </tr>\n",
       "    <tr>\n",
       "      <th>alpha[3]</th>\n",
       "      <td>-0.55</td>\n",
       "      <td>0.30</td>\n",
       "      <td>-1.03</td>\n",
       "      <td>-0.08</td>\n",
       "    </tr>\n",
       "  </tbody>\n",
       "</table>\n",
       "</div>"
      ],
      "text/plain": [
       "          mean    sd  hdi_5.5%  hdi_94.5%\n",
       "sigma[0]  0.80  0.12      0.61       0.97\n",
       "alpha[0] -0.47  0.25     -0.88      -0.08\n",
       "alpha[1]  0.35  0.24     -0.03       0.72\n",
       "alpha[2]  0.64  0.28      0.19       1.08\n",
       "alpha[3] -0.55  0.30     -1.03      -0.08"
      ]
     },
     "execution_count": 3,
     "metadata": {},
     "output_type": "execute_result"
    }
   ],
   "source": [
    "## Model m5.9 \n",
    "from  main import *\n",
    "self = model()\n",
    "self.import_csv('./data/milk.csv', sep = ';')\n",
    "self.df[\"K\"] = self.df[\"kcal.per.g\"].pipe(lambda x: (x - x.mean()) / x.std())\n",
    "self.index(cols = \"clade\")\n",
    "\n",
    "formula = dict(main = 'K ~ Normal(mu,sigma)',\n",
    "            likelihood = 'mu ~ alpha[index_clade]',\n",
    "            prior1 = 'alpha~ Normal(0,0.5)',\n",
    "            prior2 = 'sigma ~ Exponential(1)') \n",
    "\n",
    "self.formula(f = formula)\n",
    "self.build_model()\n",
    "self.fit(observed_data = dict(K =self.df.K.astype('float32').values),\n",
    "                                           num_results = 2000, num_burnin_steps=500, num_adaptation_steps=400, num_chains=4)\n",
    "self.summary()\n",
    "\n",
    "# Expected:\n",
    "#                mean\tsd\t    hdi_5.5%\thdi_94.5%\n",
    "# ape_alpha\t    -0.48\t0.27\t-0.93\t    -0.08\n",
    "# nwm_alpha\t    0.37\t0.22\t0.03\t    0.73\n",
    "# owm_alpha\t    0.65\t0.30\t0.26\t    1.18\n",
    "# strep_alpha\t-0.55\t0.29\t-1.07\t    -0.19\n",
    "# sigma\t        0.83\t0.13\t0.67\t    1.06"
   ]
  },
  {
   "cell_type": "markdown",
   "metadata": {},
   "source": [
    "# <a id='toc7_'></a>[Model comparaison](#toc0_)"
   ]
  },
  {
   "cell_type": "code",
   "execution_count": 4,
   "metadata": {},
   "outputs": [
    {
     "name": "stderr",
     "output_type": "stream",
     "text": [
      "2024-02-08 09:54:08.616063: I external/local_xla/xla/stream_executor/cuda/cuda_executor.cc:887] could not open file to read NUMA node: /sys/bus/pci/devices/0000:01:00.0/numa_node\n",
      "Your kernel may have been built without NUMA support.\n",
      "2024-02-08 09:54:08.616120: I external/local_xla/xla/stream_executor/cuda/cuda_executor.cc:887] could not open file to read NUMA node: /sys/bus/pci/devices/0000:01:00.0/numa_node\n",
      "Your kernel may have been built without NUMA support.\n",
      "2024-02-08 09:54:08.616136: I external/local_xla/xla/stream_executor/cuda/cuda_executor.cc:887] could not open file to read NUMA node: /sys/bus/pci/devices/0000:01:00.0/numa_node\n",
      "Your kernel may have been built without NUMA support.\n",
      "2024-02-08 09:54:08.616343: I external/local_xla/xla/stream_executor/cuda/cuda_executor.cc:887] could not open file to read NUMA node: /sys/bus/pci/devices/0000:01:00.0/numa_node\n",
      "Your kernel may have been built without NUMA support.\n",
      "2024-02-08 09:54:08.616354: I tensorflow/core/common_runtime/gpu/gpu_device.cc:2022] Could not identify NUMA node of platform GPU id 0, defaulting to 0.  Your kernel may not have been built with NUMA support.\n",
      "2024-02-08 09:54:08.616371: I external/local_xla/xla/stream_executor/cuda/cuda_executor.cc:887] could not open file to read NUMA node: /sys/bus/pci/devices/0000:01:00.0/numa_node\n",
      "Your kernel may have been built without NUMA support.\n",
      "2024-02-08 09:54:08.616383: I tensorflow/core/common_runtime/gpu/gpu_device.cc:1929] Created device /device:GPU:0 with 5679 MB memory:  -> device: 0, name: NVIDIA GeForce RTX 3050 OEM, pci bus id: 0000:01:00.0, compute capability: 8.6\n",
      "2024-02-08 09:54:08.621538: I external/local_xla/xla/stream_executor/cuda/cuda_executor.cc:887] could not open file to read NUMA node: /sys/bus/pci/devices/0000:01:00.0/numa_node\n",
      "Your kernel may have been built without NUMA support.\n",
      "2024-02-08 09:54:08.621589: I external/local_xla/xla/stream_executor/cuda/cuda_executor.cc:887] could not open file to read NUMA node: /sys/bus/pci/devices/0000:01:00.0/numa_node\n",
      "Your kernel may have been built without NUMA support.\n",
      "2024-02-08 09:54:08.621602: I external/local_xla/xla/stream_executor/cuda/cuda_executor.cc:887] could not open file to read NUMA node: /sys/bus/pci/devices/0000:01:00.0/numa_node\n",
      "Your kernel may have been built without NUMA support.\n",
      "2024-02-08 09:54:08.621832: I external/local_xla/xla/stream_executor/cuda/cuda_executor.cc:887] could not open file to read NUMA node: /sys/bus/pci/devices/0000:01:00.0/numa_node\n",
      "Your kernel may have been built without NUMA support.\n",
      "2024-02-08 09:54:08.621838: I tensorflow/core/common_runtime/gpu/gpu_device.cc:2022] Could not identify NUMA node of platform GPU id 0, defaulting to 0.  Your kernel may not have been built with NUMA support.\n",
      "2024-02-08 09:54:08.621851: I external/local_xla/xla/stream_executor/cuda/cuda_executor.cc:887] could not open file to read NUMA node: /sys/bus/pci/devices/0000:01:00.0/numa_node\n",
      "Your kernel may have been built without NUMA support.\n",
      "2024-02-08 09:54:08.621863: I tensorflow/core/common_runtime/gpu/gpu_device.cc:1929] Created device /device:GPU:0 with 5679 MB memory:  -> device: 0, name: NVIDIA GeForce RTX 3050 OEM, pci bus id: 0000:01:00.0, compute capability: 8.6\n"
     ]
    },
    {
     "data": {
      "text/html": [
       "<div>\n",
       "<style scoped>\n",
       "    .dataframe tbody tr th:only-of-type {\n",
       "        vertical-align: middle;\n",
       "    }\n",
       "\n",
       "    .dataframe tbody tr th {\n",
       "        vertical-align: top;\n",
       "    }\n",
       "\n",
       "    .dataframe thead th {\n",
       "        text-align: right;\n",
       "    }\n",
       "</style>\n",
       "<table border=\"1\" class=\"dataframe\">\n",
       "  <thead>\n",
       "    <tr style=\"text-align: right;\">\n",
       "      <th></th>\n",
       "      <th>mean</th>\n",
       "      <th>sd</th>\n",
       "      <th>hdi_5.5%</th>\n",
       "      <th>hdi_94.5%</th>\n",
       "    </tr>\n",
       "  </thead>\n",
       "  <tbody>\n",
       "    <tr>\n",
       "      <th>sigma[0]</th>\n",
       "      <td>0.14</td>\n",
       "      <td>0.01</td>\n",
       "      <td>0.13</td>\n",
       "      <td>0.15</td>\n",
       "    </tr>\n",
       "    <tr>\n",
       "      <th>b[0]</th>\n",
       "      <td>0.00</td>\n",
       "      <td>0.07</td>\n",
       "      <td>-0.11</td>\n",
       "      <td>0.11</td>\n",
       "    </tr>\n",
       "    <tr>\n",
       "      <th>a[0]</th>\n",
       "      <td>1.00</td>\n",
       "      <td>0.02</td>\n",
       "      <td>0.97</td>\n",
       "      <td>1.02</td>\n",
       "    </tr>\n",
       "  </tbody>\n",
       "</table>\n",
       "</div>"
      ],
      "text/plain": [
       "          mean    sd  hdi_5.5%  hdi_94.5%\n",
       "sigma[0]  0.14  0.01      0.13       0.15\n",
       "b[0]      0.00  0.07     -0.11       0.11\n",
       "a[0]      1.00  0.02      0.97       1.02"
      ]
     },
     "execution_count": 4,
     "metadata": {},
     "output_type": "execute_result"
    }
   ],
   "source": [
    "from  main import*\n",
    "# m8.1\n",
    "m = model()\n",
    "d = pd.read_csv('./data/rugged.csv', sep = ';')\n",
    "# make log version of outcome\n",
    "d['log_gdp'] = np.log(d.rgdppc_2000)\n",
    "# extract countries with GDP data\n",
    "\n",
    "# rescale variables\n",
    "d['log_gdp_std'] = d[\"log_gdp\"].pipe(lambda x: (x / x.mean()) )\n",
    "d['rugged_std'] = d[\"rugged\"].pipe(lambda x: (x / x.max()) )\n",
    "d['rugged_std'] - 0.215\n",
    "d = d.loc[:,['rugged_std','log_gdp_std', 'cont_africa','log_gdp']]\n",
    "d = d.dropna()\n",
    "formula = dict(\n",
    "    main = 'log_gdp_std ~ Normal( mu , sigma ) ',\n",
    "    likelihood = 'mu ~ a + b* rugged_std ',\n",
    "    prior1 = 'a ~ Normal( 1 , 0.1  )' ,\n",
    "    prior2 = 'b ~ Normal( 0 , 0.3 )' ,\n",
    "    prior3 = 'sigma ~ Exponential( 1 )'\n",
    ")\n",
    "\n",
    "m8_1 = model(formula, d)\n",
    "\n",
    "m8_1.fit(observed_data = dict(log_gdp_std =d.log_gdp_std.astype('float32').values),\n",
    "                                           num_results = 2000, num_burnin_steps=500, num_adaptation_steps=400, num_chains=4)\n",
    "m8_1.summary()\n",
    "\n",
    "#Expected:\n",
    "#       mean    sd      5.5%    94.5%\n",
    "#a      1.00    0.01    0.98    1.0\n",
    "#b      0.00    0.05    -0.09   0.09\n",
    "#sigma  0.14    0.01    0.12    0.15\n"
   ]
  },
  {
   "cell_type": "code",
   "execution_count": 5,
   "metadata": {},
   "outputs": [
    {
     "name": "stderr",
     "output_type": "stream",
     "text": [
      "2024-02-08 09:54:13.897196: I external/local_xla/xla/stream_executor/cuda/cuda_executor.cc:887] could not open file to read NUMA node: /sys/bus/pci/devices/0000:01:00.0/numa_node\n",
      "Your kernel may have been built without NUMA support.\n",
      "2024-02-08 09:54:13.897263: I external/local_xla/xla/stream_executor/cuda/cuda_executor.cc:887] could not open file to read NUMA node: /sys/bus/pci/devices/0000:01:00.0/numa_node\n",
      "Your kernel may have been built without NUMA support.\n",
      "2024-02-08 09:54:13.897277: I external/local_xla/xla/stream_executor/cuda/cuda_executor.cc:887] could not open file to read NUMA node: /sys/bus/pci/devices/0000:01:00.0/numa_node\n",
      "Your kernel may have been built without NUMA support.\n",
      "2024-02-08 09:54:13.897489: I external/local_xla/xla/stream_executor/cuda/cuda_executor.cc:887] could not open file to read NUMA node: /sys/bus/pci/devices/0000:01:00.0/numa_node\n",
      "Your kernel may have been built without NUMA support.\n",
      "2024-02-08 09:54:13.897501: I tensorflow/core/common_runtime/gpu/gpu_device.cc:2022] Could not identify NUMA node of platform GPU id 0, defaulting to 0.  Your kernel may not have been built with NUMA support.\n",
      "2024-02-08 09:54:13.897523: I external/local_xla/xla/stream_executor/cuda/cuda_executor.cc:887] could not open file to read NUMA node: /sys/bus/pci/devices/0000:01:00.0/numa_node\n",
      "Your kernel may have been built without NUMA support.\n",
      "2024-02-08 09:54:13.897538: I tensorflow/core/common_runtime/gpu/gpu_device.cc:1929] Created device /device:GPU:0 with 5679 MB memory:  -> device: 0, name: NVIDIA GeForce RTX 3050 OEM, pci bus id: 0000:01:00.0, compute capability: 8.6\n"
     ]
    },
    {
     "name": "stdout",
     "output_type": "stream",
     "text": [
      "WARNING:tensorflow:5 out of the last 5 calls to <function sampleH at 0x7fdc8aee1a20> triggered tf.function retracing. Tracing is expensive and the excessive number of tracings could be due to (1) creating @tf.function repeatedly in a loop, (2) passing tensors with different shapes, (3) passing Python objects instead of tensors. For (1), please define your @tf.function outside of the loop. For (2), @tf.function has reduce_retracing=True option that can avoid unnecessary retracing. For (3), please refer to https://www.tensorflow.org/guide/function#controlling_retracing and https://www.tensorflow.org/api_docs/python/tf/function for  more details.\n"
     ]
    },
    {
     "data": {
      "text/html": [
       "<div>\n",
       "<style scoped>\n",
       "    .dataframe tbody tr th:only-of-type {\n",
       "        vertical-align: middle;\n",
       "    }\n",
       "\n",
       "    .dataframe tbody tr th {\n",
       "        vertical-align: top;\n",
       "    }\n",
       "\n",
       "    .dataframe thead th {\n",
       "        text-align: right;\n",
       "    }\n",
       "</style>\n",
       "<table border=\"1\" class=\"dataframe\">\n",
       "  <thead>\n",
       "    <tr style=\"text-align: right;\">\n",
       "      <th></th>\n",
       "      <th>mean</th>\n",
       "      <th>sd</th>\n",
       "      <th>hdi_5.5%</th>\n",
       "      <th>hdi_94.5%</th>\n",
       "    </tr>\n",
       "  </thead>\n",
       "  <tbody>\n",
       "    <tr>\n",
       "      <th>sigma[0]</th>\n",
       "      <td>0.11</td>\n",
       "      <td>0.01</td>\n",
       "      <td>0.10</td>\n",
       "      <td>0.12</td>\n",
       "    </tr>\n",
       "    <tr>\n",
       "      <th>b[0]</th>\n",
       "      <td>-0.05</td>\n",
       "      <td>0.05</td>\n",
       "      <td>-0.12</td>\n",
       "      <td>0.03</td>\n",
       "    </tr>\n",
       "    <tr>\n",
       "      <th>a[0]</th>\n",
       "      <td>0.89</td>\n",
       "      <td>0.02</td>\n",
       "      <td>0.86</td>\n",
       "      <td>0.92</td>\n",
       "    </tr>\n",
       "    <tr>\n",
       "      <th>a[1]</th>\n",
       "      <td>1.06</td>\n",
       "      <td>0.01</td>\n",
       "      <td>1.04</td>\n",
       "      <td>1.08</td>\n",
       "    </tr>\n",
       "  </tbody>\n",
       "</table>\n",
       "</div>"
      ],
      "text/plain": [
       "          mean    sd  hdi_5.5%  hdi_94.5%\n",
       "sigma[0]  0.11  0.01      0.10       0.12\n",
       "b[0]     -0.05  0.05     -0.12       0.03\n",
       "a[0]      0.89  0.02      0.86       0.92\n",
       "a[1]      1.06  0.01      1.04       1.08"
      ]
     },
     "execution_count": 5,
     "metadata": {},
     "output_type": "execute_result"
    }
   ],
   "source": [
    "\n",
    "d = pd.read_csv('./data/rugged.csv', sep = ';')\n",
    "d[\"log_gdp\"] = d[\"rgdppc_2000\"].pipe(np.log)\n",
    "\n",
    "# extract countries with GDP data\n",
    "dd = d[d[\"rgdppc_2000\"].notnull()].copy()\n",
    "\n",
    "# rescale variables\n",
    "dd[\"log_gdp_std\"] = dd.log_gdp / dd.log_gdp.mean()\n",
    "dd[\"rugged_std\"] = dd.rugged / dd.rugged.max()\n",
    "\n",
    "dd[\"cid\"] = np.where(dd.cont_africa.values == 1, 0, 1)\n",
    "dd[\"cid\"]\n",
    "\n",
    "formula = dict(\n",
    "    main = 'log_gdp_std ~ Normal( mu , sigma ) ',\n",
    "    likelihood = 'mu ~ a[cid] + b*rugged_std',\n",
    "    prior1 = 'a ~ Normal( 1 , 0.1  )' ,\n",
    "    prior2 = 'b ~ Normal( 0 , 0.3 )' ,\n",
    "    prior3 = 'sigma ~ Exponential( 1 )'\n",
    ")\n",
    "\n",
    "m8_2= model(formula, dd)\n",
    "m8_2.fit(observed_data = dict(log_gdp_std =dd.log_gdp_std.astype('float32').values),\n",
    "                                           num_results = 2000, num_burnin_steps=500, num_adaptation_steps=400, num_chains=4)\n",
    "m8_2.summary()\n",
    "\n",
    "#Expected:\n",
    "#       mean    sd      5.5%    94.5%\n",
    "#a[1]   0.88    0.02    0.85    0.91\n",
    "#a[2]   1.05    0.01    1.03    1.07\n",
    "#b      -0.05   0.05    -0.12   0.03\n",
    "#sigma  0.11    0.01    0.10    0.1\n"
   ]
  },
  {
   "cell_type": "code",
   "execution_count": 6,
   "metadata": {},
   "outputs": [
    {
     "name": "stderr",
     "output_type": "stream",
     "text": [
      "/home/sosa/.local/lib/python3.10/site-packages/arviz/stats/stats.py:805: UserWarning: Estimated shape parameter of Pareto distribution is greater than 0.7 for one or more samples. You should consider using a more robust model, this is because importance sampling is less likely to work well if the marginal posterior and LOO posterior are very different. This is more likely to happen with a non-robust model and highly influential observations.\n",
      "  warnings.warn(\n",
      "/home/sosa/.local/lib/python3.10/site-packages/arviz/stats/stats.py:839: UserWarning: The point-wise LOO is the same with the sum LOO, please double check the Observed RV in your model to make sure it returns element-wise logp.\n",
      "  warnings.warn(\n",
      "/home/sosa/.local/lib/python3.10/site-packages/arviz/stats/stats.py:805: UserWarning: Estimated shape parameter of Pareto distribution is greater than 0.7 for one or more samples. You should consider using a more robust model, this is because importance sampling is less likely to work well if the marginal posterior and LOO posterior are very different. This is more likely to happen with a non-robust model and highly influential observations.\n",
      "  warnings.warn(\n",
      "/home/sosa/.local/lib/python3.10/site-packages/arviz/stats/stats.py:839: UserWarning: The point-wise LOO is the same with the sum LOO, please double check the Observed RV in your model to make sure it returns element-wise logp.\n",
      "  warnings.warn(\n",
      "/home/sosa/.local/lib/python3.10/site-packages/arviz/stats/stats.py:309: FutureWarning: Setting an item of incompatible dtype is deprecated and will raise in a future error of pandas. Value 'True' has dtype incompatible with float64, please explicitly cast to a compatible dtype first.\n",
      "  df_comp.loc[val] = (\n",
      "/home/sosa/.local/lib/python3.10/site-packages/arviz/stats/stats.py:309: FutureWarning: Setting an item of incompatible dtype is deprecated and will raise in a future error of pandas. Value 'log' has dtype incompatible with float64, please explicitly cast to a compatible dtype first.\n",
      "  df_comp.loc[val] = (\n"
     ]
    },
    {
     "data": {
      "text/html": [
       "<div>\n",
       "<style scoped>\n",
       "    .dataframe tbody tr th:only-of-type {\n",
       "        vertical-align: middle;\n",
       "    }\n",
       "\n",
       "    .dataframe tbody tr th {\n",
       "        vertical-align: top;\n",
       "    }\n",
       "\n",
       "    .dataframe thead th {\n",
       "        text-align: right;\n",
       "    }\n",
       "</style>\n",
       "<table border=\"1\" class=\"dataframe\">\n",
       "  <thead>\n",
       "    <tr style=\"text-align: right;\">\n",
       "      <th></th>\n",
       "      <th>rank</th>\n",
       "      <th>elpd_loo</th>\n",
       "      <th>p_loo</th>\n",
       "      <th>elpd_diff</th>\n",
       "      <th>weight</th>\n",
       "      <th>se</th>\n",
       "      <th>dse</th>\n",
       "      <th>warning</th>\n",
       "      <th>scale</th>\n",
       "    </tr>\n",
       "  </thead>\n",
       "  <tbody>\n",
       "    <tr>\n",
       "      <th>m8.2</th>\n",
       "      <td>0</td>\n",
       "      <td>127.699005</td>\n",
       "      <td>3.376434</td>\n",
       "      <td>0.000000</td>\n",
       "      <td>1.000000e+00</td>\n",
       "      <td>0.0</td>\n",
       "      <td>0.0</td>\n",
       "      <td>True</td>\n",
       "      <td>log</td>\n",
       "    </tr>\n",
       "    <tr>\n",
       "      <th>m8.1</th>\n",
       "      <td>1</td>\n",
       "      <td>95.523918</td>\n",
       "      <td>2.223770</td>\n",
       "      <td>32.175087</td>\n",
       "      <td>2.220446e-16</td>\n",
       "      <td>0.0</td>\n",
       "      <td>0.0</td>\n",
       "      <td>True</td>\n",
       "      <td>log</td>\n",
       "    </tr>\n",
       "  </tbody>\n",
       "</table>\n",
       "</div>"
      ],
      "text/plain": [
       "      rank    elpd_loo     p_loo  elpd_diff        weight   se  dse  warning  \\\n",
       "m8.2     0  127.699005  3.376434   0.000000  1.000000e+00  0.0  0.0     True   \n",
       "m8.1     1   95.523918  2.223770  32.175087  2.220446e-16  0.0  0.0     True   \n",
       "\n",
       "     scale  \n",
       "m8.2   log  \n",
       "m8.1   log  "
      ]
     },
     "execution_count": 6,
     "metadata": {},
     "output_type": "execute_result"
    }
   ],
   "source": [
    "m8_2.diag_compare({'m8.1': m8_1.trace, 'm8.2': m8_2.trace})\n",
    "#       rank\telpd_loo\tp_loo\t    elpd_diff\tweight\tse\t    dse\t    warning\t    scale\n",
    "#m8.2\t0\t    128.021790\t3.008224\t0.000000\t1.0\t    0.0\t    0.0\t    True\t    log\n",
    "#m8.1\t1\t    95.414886\t2.317650\t32.606903\t0.0\t    0.0\t    0.0\t    True\t    log"
   ]
  },
  {
   "cell_type": "markdown",
   "metadata": {},
   "source": []
  },
  {
   "cell_type": "markdown",
   "metadata": {},
   "source": [
    "# <a id='toc8_'></a>[Multiple indices](#toc0_)"
   ]
  },
  {
   "cell_type": "code",
   "execution_count": 7,
   "metadata": {},
   "outputs": [
    {
     "name": "stderr",
     "output_type": "stream",
     "text": [
      "2024-02-08 09:54:19.462057: I external/local_xla/xla/stream_executor/cuda/cuda_executor.cc:887] could not open file to read NUMA node: /sys/bus/pci/devices/0000:01:00.0/numa_node\n",
      "Your kernel may have been built without NUMA support.\n",
      "2024-02-08 09:54:19.462127: I external/local_xla/xla/stream_executor/cuda/cuda_executor.cc:887] could not open file to read NUMA node: /sys/bus/pci/devices/0000:01:00.0/numa_node\n",
      "Your kernel may have been built without NUMA support.\n",
      "2024-02-08 09:54:19.462140: I external/local_xla/xla/stream_executor/cuda/cuda_executor.cc:887] could not open file to read NUMA node: /sys/bus/pci/devices/0000:01:00.0/numa_node\n",
      "Your kernel may have been built without NUMA support.\n",
      "2024-02-08 09:54:19.462329: I external/local_xla/xla/stream_executor/cuda/cuda_executor.cc:887] could not open file to read NUMA node: /sys/bus/pci/devices/0000:01:00.0/numa_node\n",
      "Your kernel may have been built without NUMA support.\n",
      "2024-02-08 09:54:19.462341: I tensorflow/core/common_runtime/gpu/gpu_device.cc:2022] Could not identify NUMA node of platform GPU id 0, defaulting to 0.  Your kernel may not have been built with NUMA support.\n",
      "2024-02-08 09:54:19.462359: I external/local_xla/xla/stream_executor/cuda/cuda_executor.cc:887] could not open file to read NUMA node: /sys/bus/pci/devices/0000:01:00.0/numa_node\n",
      "Your kernel may have been built without NUMA support.\n",
      "2024-02-08 09:54:19.462372: I tensorflow/core/common_runtime/gpu/gpu_device.cc:1929] Created device /device:GPU:0 with 5679 MB memory:  -> device: 0, name: NVIDIA GeForce RTX 3050 OEM, pci bus id: 0000:01:00.0, compute capability: 8.6\n"
     ]
    },
    {
     "name": "stdout",
     "output_type": "stream",
     "text": [
      "WARNING:tensorflow:6 out of the last 6 calls to <function sampleH at 0x7fdc8aee1a20> triggered tf.function retracing. Tracing is expensive and the excessive number of tracings could be due to (1) creating @tf.function repeatedly in a loop, (2) passing tensors with different shapes, (3) passing Python objects instead of tensors. For (1), please define your @tf.function outside of the loop. For (2), @tf.function has reduce_retracing=True option that can avoid unnecessary retracing. For (3), please refer to https://www.tensorflow.org/guide/function#controlling_retracing and https://www.tensorflow.org/api_docs/python/tf/function for  more details.\n"
     ]
    },
    {
     "data": {
      "text/html": [
       "<div>\n",
       "<style scoped>\n",
       "    .dataframe tbody tr th:only-of-type {\n",
       "        vertical-align: middle;\n",
       "    }\n",
       "\n",
       "    .dataframe tbody tr th {\n",
       "        vertical-align: top;\n",
       "    }\n",
       "\n",
       "    .dataframe thead th {\n",
       "        text-align: right;\n",
       "    }\n",
       "</style>\n",
       "<table border=\"1\" class=\"dataframe\">\n",
       "  <thead>\n",
       "    <tr style=\"text-align: right;\">\n",
       "      <th></th>\n",
       "      <th>mean</th>\n",
       "      <th>sd</th>\n",
       "      <th>hdi_5.5%</th>\n",
       "      <th>hdi_94.5%</th>\n",
       "    </tr>\n",
       "  </thead>\n",
       "  <tbody>\n",
       "    <tr>\n",
       "      <th>sigma[0]</th>\n",
       "      <td>0.11</td>\n",
       "      <td>0.01</td>\n",
       "      <td>0.10</td>\n",
       "      <td>0.12</td>\n",
       "    </tr>\n",
       "    <tr>\n",
       "      <th>b[0]</th>\n",
       "      <td>0.10</td>\n",
       "      <td>0.08</td>\n",
       "      <td>-0.02</td>\n",
       "      <td>0.23</td>\n",
       "    </tr>\n",
       "    <tr>\n",
       "      <th>b[1]</th>\n",
       "      <td>-0.14</td>\n",
       "      <td>0.05</td>\n",
       "      <td>-0.22</td>\n",
       "      <td>-0.05</td>\n",
       "    </tr>\n",
       "    <tr>\n",
       "      <th>a[0]</th>\n",
       "      <td>0.86</td>\n",
       "      <td>0.02</td>\n",
       "      <td>0.83</td>\n",
       "      <td>0.90</td>\n",
       "    </tr>\n",
       "    <tr>\n",
       "      <th>a[1]</th>\n",
       "      <td>1.08</td>\n",
       "      <td>0.02</td>\n",
       "      <td>1.05</td>\n",
       "      <td>1.10</td>\n",
       "    </tr>\n",
       "  </tbody>\n",
       "</table>\n",
       "</div>"
      ],
      "text/plain": [
       "          mean    sd  hdi_5.5%  hdi_94.5%\n",
       "sigma[0]  0.11  0.01      0.10       0.12\n",
       "b[0]      0.10  0.08     -0.02       0.23\n",
       "b[1]     -0.14  0.05     -0.22      -0.05\n",
       "a[0]      0.86  0.02      0.83       0.90\n",
       "a[1]      1.08  0.02      1.05       1.10"
      ]
     },
     "execution_count": 7,
     "metadata": {},
     "output_type": "execute_result"
    }
   ],
   "source": [
    "# m8.3\n",
    "from main import*\n",
    "d = pd.read_csv('./data/rugged.csv', sep = ';')\n",
    "d[\"log_gdp\"] = d[\"rgdppc_2000\"].pipe(np.log)\n",
    "\n",
    "# extract countries with GDP data\n",
    "dd = d[d[\"rgdppc_2000\"].notnull()].copy()\n",
    "\n",
    "# rescale variables\n",
    "dd[\"log_gdp_std\"] = dd.log_gdp / dd.log_gdp.mean()\n",
    "dd[\"rugged_std\"] = dd.rugged / dd.rugged.max()\n",
    "\n",
    "dd[\"cid\"] = np.where(dd.cont_africa.values == 1, 0, 1)\n",
    "dd[\"cid\"]\n",
    "\n",
    "\n",
    "formula = dict(\n",
    "    main = 'log_gdp_std ~ Normal( mu , sigma ) ',\n",
    "    likelihood = 'mu ~ a[cid] + b[cid]*rugged_std',\n",
    "    prior1 = 'a ~ Normal( 1 , 0.1  )' ,\n",
    "    prior2 = 'b ~ Normal( 0 , 0.3 )' ,\n",
    "    prior3 = 'sigma ~ Exponential( 1 )'\n",
    ")\n",
    "\n",
    "m8_3= model(formula, dd)\n",
    "m8_3.fit(observed_data = dict(log_gdp_std =dd.log_gdp_std.astype('float32').values),\n",
    "                                           num_results = 2000, num_burnin_steps=500, num_adaptation_steps=400, num_chains=4)\n",
    "m8_3.summary()\n",
    "\n",
    "# Expected:\n",
    "#       mean    sd      5.5%    94.5%\n",
    "#a[1]   0.89    0.02    0.86    0.91\n",
    "#a[2]   1.05    0.01    1.03    1.07\n",
    "#b[1]   0.13    0.07    0.01    0.25\n",
    "#b[2]   -0.14   0.05    -0.23    -0.06\n",
    "#sigma  0.11    0.01    0.10    0.12"
   ]
  },
  {
   "cell_type": "markdown",
   "metadata": {},
   "source": [
    "# <a id='toc9_'></a>[ Categorical interactions](#toc0_)"
   ]
  },
  {
   "cell_type": "code",
   "execution_count": 8,
   "metadata": {},
   "outputs": [
    {
     "name": "stderr",
     "output_type": "stream",
     "text": [
      "2024-02-08 09:54:25.026062: I external/local_xla/xla/stream_executor/cuda/cuda_executor.cc:887] could not open file to read NUMA node: /sys/bus/pci/devices/0000:01:00.0/numa_node\n",
      "Your kernel may have been built without NUMA support.\n",
      "2024-02-08 09:54:25.026115: I external/local_xla/xla/stream_executor/cuda/cuda_executor.cc:887] could not open file to read NUMA node: /sys/bus/pci/devices/0000:01:00.0/numa_node\n",
      "Your kernel may have been built without NUMA support.\n",
      "2024-02-08 09:54:25.026129: I external/local_xla/xla/stream_executor/cuda/cuda_executor.cc:887] could not open file to read NUMA node: /sys/bus/pci/devices/0000:01:00.0/numa_node\n",
      "Your kernel may have been built without NUMA support.\n",
      "2024-02-08 09:54:25.026306: I external/local_xla/xla/stream_executor/cuda/cuda_executor.cc:887] could not open file to read NUMA node: /sys/bus/pci/devices/0000:01:00.0/numa_node\n",
      "Your kernel may have been built without NUMA support.\n",
      "2024-02-08 09:54:25.026319: I tensorflow/core/common_runtime/gpu/gpu_device.cc:2022] Could not identify NUMA node of platform GPU id 0, defaulting to 0.  Your kernel may not have been built with NUMA support.\n",
      "2024-02-08 09:54:25.026341: I external/local_xla/xla/stream_executor/cuda/cuda_executor.cc:887] could not open file to read NUMA node: /sys/bus/pci/devices/0000:01:00.0/numa_node\n",
      "Your kernel may have been built without NUMA support.\n",
      "2024-02-08 09:54:25.026355: I tensorflow/core/common_runtime/gpu/gpu_device.cc:1929] Created device /device:GPU:0 with 5679 MB memory:  -> device: 0, name: NVIDIA GeForce RTX 3050 OEM, pci bus id: 0000:01:00.0, compute capability: 8.6\n"
     ]
    },
    {
     "data": {
      "text/html": [
       "<div>\n",
       "<style scoped>\n",
       "    .dataframe tbody tr th:only-of-type {\n",
       "        vertical-align: middle;\n",
       "    }\n",
       "\n",
       "    .dataframe tbody tr th {\n",
       "        vertical-align: top;\n",
       "    }\n",
       "\n",
       "    .dataframe thead th {\n",
       "        text-align: right;\n",
       "    }\n",
       "</style>\n",
       "<table border=\"1\" class=\"dataframe\">\n",
       "  <thead>\n",
       "    <tr style=\"text-align: right;\">\n",
       "      <th></th>\n",
       "      <th>mean</th>\n",
       "      <th>sd</th>\n",
       "      <th>hdi_5.5%</th>\n",
       "      <th>hdi_94.5%</th>\n",
       "    </tr>\n",
       "  </thead>\n",
       "  <tbody>\n",
       "    <tr>\n",
       "      <th>sigma[0]</th>\n",
       "      <td>0.18</td>\n",
       "      <td>0.03</td>\n",
       "      <td>0.14</td>\n",
       "      <td>0.22</td>\n",
       "    </tr>\n",
       "    <tr>\n",
       "      <th>bw[0]</th>\n",
       "      <td>0.20</td>\n",
       "      <td>0.04</td>\n",
       "      <td>0.14</td>\n",
       "      <td>0.27</td>\n",
       "    </tr>\n",
       "    <tr>\n",
       "      <th>bs[0]</th>\n",
       "      <td>-0.11</td>\n",
       "      <td>0.04</td>\n",
       "      <td>-0.18</td>\n",
       "      <td>-0.05</td>\n",
       "    </tr>\n",
       "    <tr>\n",
       "      <th>a[0]</th>\n",
       "      <td>0.36</td>\n",
       "      <td>0.03</td>\n",
       "      <td>0.31</td>\n",
       "      <td>0.41</td>\n",
       "    </tr>\n",
       "  </tbody>\n",
       "</table>\n",
       "</div>"
      ],
      "text/plain": [
       "          mean    sd  hdi_5.5%  hdi_94.5%\n",
       "sigma[0]  0.18  0.03      0.14       0.22\n",
       "bw[0]     0.20  0.04      0.14       0.27\n",
       "bs[0]    -0.11  0.04     -0.18      -0.05\n",
       "a[0]      0.36  0.03      0.31       0.41"
      ]
     },
     "execution_count": 8,
     "metadata": {},
     "output_type": "execute_result"
    }
   ],
   "source": [
    "d = pd.read_csv('./data/tulips.csv', sep = ';')\n",
    "d[\"blooms_std\"] = d.blooms / d.blooms.max()\n",
    "d[\"water_cent\"] = d.water - d.water.mean()\n",
    "d[\"shade_cent\"] = d.shade - d.shade.mean()\n",
    "\n",
    "formula = dict(\n",
    "            main = 'blooms_std ~ Normal( mu , sigma ) ',\n",
    "            likelihood ='mu ~ a + bw*water_cent + bs*shade_cent' ,\n",
    "            prior1 = 'a ~ Normal( 0.5 , 0.25 ) ',\n",
    "            prior2 = 'bw ~ Normal( 0 , 0.25 ) ',\n",
    "            prior3 = 'bs ~ Normal( 0 , 0.25 ) ',\n",
    "            prior4 = 'sigma ~ Exponential( 1 )',\n",
    "            )\n",
    "m8_4 = model(formula, d)\n",
    "m8_4.fit(observed_data = dict(blooms_std =d.blooms_std.astype('float32').values),\n",
    "                                           num_results = 2000, num_burnin_steps=500, num_adaptation_steps=400, num_chains=4)\n",
    "m8_4.summary()\n",
    "#Expected:\n",
    "#       mean   sd       5.5%    94.5%\n",
    "#a      0.36    0.03     0.31    0.41\n",
    "#bw     0.21    0.04     0.15    0.26\n",
    "#bs    -0.11    0.04    -0.17   -0.05\n",
    "#sigma  0.16    0.02     0.12    0.19"
   ]
  },
  {
   "cell_type": "markdown",
   "metadata": {},
   "source": [
    "# <a id='toc10_'></a>[ Continuous interactions](#toc0_)"
   ]
  },
  {
   "cell_type": "code",
   "execution_count": 9,
   "metadata": {},
   "outputs": [
    {
     "name": "stderr",
     "output_type": "stream",
     "text": [
      "2024-02-08 09:54:31.810754: I external/local_xla/xla/stream_executor/cuda/cuda_executor.cc:887] could not open file to read NUMA node: /sys/bus/pci/devices/0000:01:00.0/numa_node\n",
      "Your kernel may have been built without NUMA support.\n",
      "2024-02-08 09:54:31.810808: I external/local_xla/xla/stream_executor/cuda/cuda_executor.cc:887] could not open file to read NUMA node: /sys/bus/pci/devices/0000:01:00.0/numa_node\n",
      "Your kernel may have been built without NUMA support.\n",
      "2024-02-08 09:54:31.810821: I external/local_xla/xla/stream_executor/cuda/cuda_executor.cc:887] could not open file to read NUMA node: /sys/bus/pci/devices/0000:01:00.0/numa_node\n",
      "Your kernel may have been built without NUMA support.\n",
      "2024-02-08 09:54:31.810975: I external/local_xla/xla/stream_executor/cuda/cuda_executor.cc:887] could not open file to read NUMA node: /sys/bus/pci/devices/0000:01:00.0/numa_node\n",
      "Your kernel may have been built without NUMA support.\n",
      "2024-02-08 09:54:31.810981: I tensorflow/core/common_runtime/gpu/gpu_device.cc:2022] Could not identify NUMA node of platform GPU id 0, defaulting to 0.  Your kernel may not have been built with NUMA support.\n",
      "2024-02-08 09:54:31.810997: I external/local_xla/xla/stream_executor/cuda/cuda_executor.cc:887] could not open file to read NUMA node: /sys/bus/pci/devices/0000:01:00.0/numa_node\n",
      "Your kernel may have been built without NUMA support.\n",
      "2024-02-08 09:54:31.811009: I tensorflow/core/common_runtime/gpu/gpu_device.cc:1929] Created device /device:GPU:0 with 5679 MB memory:  -> device: 0, name: NVIDIA GeForce RTX 3050 OEM, pci bus id: 0000:01:00.0, compute capability: 8.6\n"
     ]
    },
    {
     "data": {
      "text/html": [
       "<div>\n",
       "<style scoped>\n",
       "    .dataframe tbody tr th:only-of-type {\n",
       "        vertical-align: middle;\n",
       "    }\n",
       "\n",
       "    .dataframe tbody tr th {\n",
       "        vertical-align: top;\n",
       "    }\n",
       "\n",
       "    .dataframe thead th {\n",
       "        text-align: right;\n",
       "    }\n",
       "</style>\n",
       "<table border=\"1\" class=\"dataframe\">\n",
       "  <thead>\n",
       "    <tr style=\"text-align: right;\">\n",
       "      <th></th>\n",
       "      <th>mean</th>\n",
       "      <th>sd</th>\n",
       "      <th>hdi_5.5%</th>\n",
       "      <th>hdi_94.5%</th>\n",
       "    </tr>\n",
       "  </thead>\n",
       "  <tbody>\n",
       "    <tr>\n",
       "      <th>sigma[0]</th>\n",
       "      <td>0.14</td>\n",
       "      <td>0.02</td>\n",
       "      <td>0.11</td>\n",
       "      <td>0.18</td>\n",
       "    </tr>\n",
       "    <tr>\n",
       "      <th>bws[0]</th>\n",
       "      <td>-0.14</td>\n",
       "      <td>0.04</td>\n",
       "      <td>-0.20</td>\n",
       "      <td>-0.08</td>\n",
       "    </tr>\n",
       "    <tr>\n",
       "      <th>bw[0]</th>\n",
       "      <td>0.21</td>\n",
       "      <td>0.03</td>\n",
       "      <td>0.15</td>\n",
       "      <td>0.26</td>\n",
       "    </tr>\n",
       "    <tr>\n",
       "      <th>bs[0]</th>\n",
       "      <td>-0.11</td>\n",
       "      <td>0.03</td>\n",
       "      <td>-0.17</td>\n",
       "      <td>-0.06</td>\n",
       "    </tr>\n",
       "    <tr>\n",
       "      <th>a[0]</th>\n",
       "      <td>0.36</td>\n",
       "      <td>0.03</td>\n",
       "      <td>0.31</td>\n",
       "      <td>0.40</td>\n",
       "    </tr>\n",
       "  </tbody>\n",
       "</table>\n",
       "</div>"
      ],
      "text/plain": [
       "          mean    sd  hdi_5.5%  hdi_94.5%\n",
       "sigma[0]  0.14  0.02      0.11       0.18\n",
       "bws[0]   -0.14  0.04     -0.20      -0.08\n",
       "bw[0]     0.21  0.03      0.15       0.26\n",
       "bs[0]    -0.11  0.03     -0.17      -0.06\n",
       "a[0]      0.36  0.03      0.31       0.40"
      ]
     },
     "execution_count": 9,
     "metadata": {},
     "output_type": "execute_result"
    }
   ],
   "source": [
    "## Model m8.3\n",
    "d = pd.read_csv('./data/tulips.csv', sep = ';')\n",
    "d[\"blooms_std\"] = d.blooms / d.blooms.max()\n",
    "d[\"water_cent\"] = d.water - d.water.mean()\n",
    "d[\"shade_cent\"] = d.shade - d.shade.mean()\n",
    "\n",
    "formula = dict(\n",
    "            main = 'blooms_std ~ Normal( mu , sigma ) ',\n",
    "            likelihood ='mu ~ a + bw*water_cent + bs*shade_cent + bws*water_cent*shade_cent' ,\n",
    "            prior1 = 'a ~ Normal( 0.5 , 0.25 ) ',\n",
    "            prior2 = 'bw ~ Normal( 0 , 0.25 ) ',\n",
    "            prior3 = 'bs ~ Normal( 0 , 0.25 ) ',\n",
    "            prior4 = 'bws ~ Normal( 0 , 0.25 ) ',\n",
    "            prior5 = 'sigma ~ Exponential( 1 )',\n",
    "            )\n",
    "m8_5 = model(formula, d)\n",
    "m8_5.fit(observed_data = dict(blooms_std =d.blooms_std.astype('float32').values),\n",
    "                                           num_results = 2000, num_burnin_steps=500, num_adaptation_steps=400, num_chains=4)\n",
    "m8_5.summary()\n",
    "\n",
    "# Expected\n",
    "#       mean   sd  5.5% 94.5%\n",
    "#a      0.36 0.02  0.32  0.40\n",
    "#bw     0.21 0.03  0.16  0.25\n",
    "#bs    -0.11 0.03 -0.16 -0.07\n",
    "#bws   -0.14 0.04 -0.20 -0.09\n",
    "#sigma  0.12 0.02  0.10  0.15"
   ]
  },
  {
   "cell_type": "markdown",
   "metadata": {},
   "source": [
    "# <a id='toc11_'></a>[Binomial model](#toc0_)"
   ]
  },
  {
   "cell_type": "code",
   "execution_count": 1,
   "metadata": {},
   "outputs": [
    {
     "name": "stderr",
     "output_type": "stream",
     "text": [
      "2024-02-08 14:31:57.352279: I tensorflow/core/util/port.cc:113] oneDNN custom operations are on. You may see slightly different numerical results due to floating-point round-off errors from different computation orders. To turn them off, set the environment variable `TF_ENABLE_ONEDNN_OPTS=0`.\n",
      "2024-02-08 14:31:57.517523: E external/local_xla/xla/stream_executor/cuda/cuda_dnn.cc:9261] Unable to register cuDNN factory: Attempting to register factory for plugin cuDNN when one has already been registered\n",
      "2024-02-08 14:31:57.517551: E external/local_xla/xla/stream_executor/cuda/cuda_fft.cc:607] Unable to register cuFFT factory: Attempting to register factory for plugin cuFFT when one has already been registered\n",
      "2024-02-08 14:31:57.543623: E external/local_xla/xla/stream_executor/cuda/cuda_blas.cc:1515] Unable to register cuBLAS factory: Attempting to register factory for plugin cuBLAS when one has already been registered\n",
      "2024-02-08 14:31:57.598778: I tensorflow/core/platform/cpu_feature_guard.cc:182] This TensorFlow binary is optimized to use available CPU instructions in performance-critical operations.\n",
      "To enable the following instructions: AVX2 AVX_VNNI FMA, in other operations, rebuild TensorFlow with the appropriate compiler flags.\n",
      "2024-02-08 14:31:58.199517: W tensorflow/compiler/tf2tensorrt/utils/py_utils.cc:38] TF-TRT Warning: Could not find TensorRT\n",
      "2024-02-08 14:31:59.948325: I external/local_xla/xla/stream_executor/cuda/cuda_executor.cc:887] could not open file to read NUMA node: /sys/bus/pci/devices/0000:01:00.0/numa_node\n",
      "Your kernel may have been built without NUMA support.\n",
      "2024-02-08 14:32:00.036773: I external/local_xla/xla/stream_executor/cuda/cuda_executor.cc:887] could not open file to read NUMA node: /sys/bus/pci/devices/0000:01:00.0/numa_node\n",
      "Your kernel may have been built without NUMA support.\n",
      "2024-02-08 14:32:00.036808: I external/local_xla/xla/stream_executor/cuda/cuda_executor.cc:887] could not open file to read NUMA node: /sys/bus/pci/devices/0000:01:00.0/numa_node\n",
      "Your kernel may have been built without NUMA support.\n",
      "2024-02-08 14:32:00.185974: I external/local_xla/xla/stream_executor/cuda/cuda_executor.cc:887] could not open file to read NUMA node: /sys/bus/pci/devices/0000:01:00.0/numa_node\n",
      "Your kernel may have been built without NUMA support.\n",
      "2024-02-08 14:32:00.186010: I external/local_xla/xla/stream_executor/cuda/cuda_executor.cc:887] could not open file to read NUMA node: /sys/bus/pci/devices/0000:01:00.0/numa_node\n",
      "Your kernel may have been built without NUMA support.\n",
      "2024-02-08 14:32:00.186015: I tensorflow/core/common_runtime/gpu/gpu_device.cc:2022] Could not identify NUMA node of platform GPU id 0, defaulting to 0.  Your kernel may not have been built with NUMA support.\n",
      "2024-02-08 14:32:00.186036: I external/local_xla/xla/stream_executor/cuda/cuda_executor.cc:887] could not open file to read NUMA node: /sys/bus/pci/devices/0000:01:00.0/numa_node\n",
      "Your kernel may have been built without NUMA support.\n",
      "2024-02-08 14:32:00.186048: I tensorflow/core/common_runtime/gpu/gpu_device.cc:1929] Created device /device:GPU:0 with 5679 MB memory:  -> device: 0, name: NVIDIA GeForce RTX 3050 OEM, pci bus id: 0000:01:00.0, compute capability: 8.6\n",
      "2024-02-08 14:32:00.187311: I external/local_xla/xla/stream_executor/cuda/cuda_executor.cc:887] could not open file to read NUMA node: /sys/bus/pci/devices/0000:01:00.0/numa_node\n",
      "Your kernel may have been built without NUMA support.\n",
      "2024-02-08 14:32:00.187338: I external/local_xla/xla/stream_executor/cuda/cuda_executor.cc:887] could not open file to read NUMA node: /sys/bus/pci/devices/0000:01:00.0/numa_node\n",
      "Your kernel may have been built without NUMA support.\n",
      "2024-02-08 14:32:00.187350: I external/local_xla/xla/stream_executor/cuda/cuda_executor.cc:887] could not open file to read NUMA node: /sys/bus/pci/devices/0000:01:00.0/numa_node\n",
      "Your kernel may have been built without NUMA support.\n",
      "2024-02-08 14:32:00.187440: I external/local_xla/xla/stream_executor/cuda/cuda_executor.cc:887] could not open file to read NUMA node: /sys/bus/pci/devices/0000:01:00.0/numa_node\n",
      "Your kernel may have been built without NUMA support.\n",
      "2024-02-08 14:32:00.187451: I external/local_xla/xla/stream_executor/cuda/cuda_executor.cc:887] could not open file to read NUMA node: /sys/bus/pci/devices/0000:01:00.0/numa_node\n",
      "Your kernel may have been built without NUMA support.\n",
      "2024-02-08 14:32:00.187461: I external/local_xla/xla/stream_executor/cuda/cuda_executor.cc:887] could not open file to read NUMA node: /sys/bus/pci/devices/0000:01:00.0/numa_node\n",
      "Your kernel may have been built without NUMA support.\n",
      "2024-02-08 14:32:00.187630: I external/local_xla/xla/stream_executor/cuda/cuda_executor.cc:887] could not open file to read NUMA node: /sys/bus/pci/devices/0000:01:00.0/numa_node\n",
      "Your kernel may have been built without NUMA support.\n",
      "2024-02-08 14:32:00.187640: I tensorflow/core/common_runtime/gpu/gpu_device.cc:2022] Could not identify NUMA node of platform GPU id 0, defaulting to 0.  Your kernel may not have been built with NUMA support.\n",
      "2024-02-08 14:32:00.187656: I external/local_xla/xla/stream_executor/cuda/cuda_executor.cc:887] could not open file to read NUMA node: /sys/bus/pci/devices/0000:01:00.0/numa_node\n",
      "Your kernel may have been built without NUMA support.\n",
      "2024-02-08 14:32:00.187665: I tensorflow/core/common_runtime/gpu/gpu_device.cc:1929] Created device /job:localhost/replica:0/task:0/device:GPU:0 with 5679 MB memory:  -> device: 0, name: NVIDIA GeForce RTX 3050 OEM, pci bus id: 0000:01:00.0, compute capability: 8.6\n"
     ]
    },
    {
     "name": "stdout",
     "output_type": "stream",
     "text": [
      "[<tf.Tensor 'JointDistributionNamed/sample/Sampleprior1/sample/Reshape:0' shape=(4, 1) dtype=float32>]\n",
      "SimpleStepSizeAdaptationResults(\n",
      "  inner_results=TransformedTransitionKernelResults(\n",
      "      transformed_state=[<tf.Tensor 'JointDistributionNamed/sample/Sampleprior1/sample/Reshape:0' shape=(4, 1) dtype=float32>],\n",
      "      inner_results=MetropolisHastingsKernelResults(\n",
      "          accepted_results=UncalibratedHamiltonianMonteCarloKernelResults(\n",
      "              log_acceptance_correction=<tf.Tensor 'mcmc_sample_chain/simple_step_size_adaptation___init__/_bootstrap_results/transformed_kernel_bootstrap_results/mh_bootstrap_results/hmc_kernel_bootstrap_results/zeros_like:0' shape=(4,) dtype=float32>,\n",
      "              target_log_prob=<tf.Tensor 'mcmc_sample_chain/simple_step_size_adaptation___init__/_bootstrap_results/transformed_kernel_bootstrap_results/mh_bootstrap_results/hmc_kernel_bootstrap_results/maybe_call_fn_and_grads/value_and_gradients/value_and_gradient/add_1:0' shape=(4,) dtype=float32>,\n",
      "              grads_target_log_prob=[<tf.Tensor 'mcmc_sample_chain/simple_step_size_adaptation___init__/_bootstrap_results/transformed_kernel_bootstrap_results/mh_bootstrap_results/hmc_kernel_bootstrap_results/maybe_call_fn_and_grads/value_and_gradients/value_and_gradient/gradients/AddN:0' shape=(4, 1) dtype=float32>],\n",
      "              initial_momentum=[<tf.Tensor 'mcmc_sample_chain/simple_step_size_adaptation___init__/_bootstrap_results/transformed_kernel_bootstrap_results/mh_bootstrap_results/hmc_kernel_bootstrap_results/zeros_like_1:0' shape=(4, 1) dtype=float32>],\n",
      "              final_momentum=[<tf.Tensor 'mcmc_sample_chain/simple_step_size_adaptation___init__/_bootstrap_results/transformed_kernel_bootstrap_results/mh_bootstrap_results/hmc_kernel_bootstrap_results/zeros_like_2:0' shape=(4, 1) dtype=float32>],\n",
      "              step_size=<tf.Tensor 'mcmc_sample_chain/simple_step_size_adaptation___init__/_bootstrap_results/transformed_kernel_bootstrap_results/mh_bootstrap_results/hmc_kernel_bootstrap_results/step_size:0' shape=() dtype=float32>,\n",
      "              num_leapfrog_steps=<tf.Tensor 'mcmc_sample_chain/simple_step_size_adaptation___init__/_bootstrap_results/transformed_kernel_bootstrap_results/mh_bootstrap_results/hmc_kernel_bootstrap_results/num_leapfrog_steps:0' shape=() dtype=int32>,\n",
      "              seed=[]\n",
      "            ),\n",
      "          is_accepted=<tf.Tensor 'mcmc_sample_chain/simple_step_size_adaptation___init__/_bootstrap_results/transformed_kernel_bootstrap_results/mh_bootstrap_results/ones_like:0' shape=(4,) dtype=bool>,\n",
      "          log_accept_ratio=<tf.Tensor 'mcmc_sample_chain/simple_step_size_adaptation___init__/_bootstrap_results/transformed_kernel_bootstrap_results/mh_bootstrap_results/zeros_like:0' shape=(4,) dtype=float32>,\n",
      "          proposed_state=[<tf.Tensor 'JointDistributionNamed/sample/Sampleprior1/sample/Reshape:0' shape=(4, 1) dtype=float32>],\n",
      "          proposed_results=UncalibratedHamiltonianMonteCarloKernelResults(\n",
      "              log_acceptance_correction=<tf.Tensor 'mcmc_sample_chain/simple_step_size_adaptation___init__/_bootstrap_results/transformed_kernel_bootstrap_results/mh_bootstrap_results/hmc_kernel_bootstrap_results/zeros_like:0' shape=(4,) dtype=float32>,\n",
      "              target_log_prob=<tf.Tensor 'mcmc_sample_chain/simple_step_size_adaptation___init__/_bootstrap_results/transformed_kernel_bootstrap_results/mh_bootstrap_results/hmc_kernel_bootstrap_results/maybe_call_fn_and_grads/value_and_gradients/value_and_gradient/add_1:0' shape=(4,) dtype=float32>,\n",
      "              grads_target_log_prob=[<tf.Tensor 'mcmc_sample_chain/simple_step_size_adaptation___init__/_bootstrap_results/transformed_kernel_bootstrap_results/mh_bootstrap_results/hmc_kernel_bootstrap_results/maybe_call_fn_and_grads/value_and_gradients/value_and_gradient/gradients/AddN:0' shape=(4, 1) dtype=float32>],\n",
      "              initial_momentum=[<tf.Tensor 'mcmc_sample_chain/simple_step_size_adaptation___init__/_bootstrap_results/transformed_kernel_bootstrap_results/mh_bootstrap_results/hmc_kernel_bootstrap_results/zeros_like_1:0' shape=(4, 1) dtype=float32>],\n",
      "              final_momentum=[<tf.Tensor 'mcmc_sample_chain/simple_step_size_adaptation___init__/_bootstrap_results/transformed_kernel_bootstrap_results/mh_bootstrap_results/hmc_kernel_bootstrap_results/zeros_like_2:0' shape=(4, 1) dtype=float32>],\n",
      "              step_size=<tf.Tensor 'mcmc_sample_chain/simple_step_size_adaptation___init__/_bootstrap_results/transformed_kernel_bootstrap_results/mh_bootstrap_results/hmc_kernel_bootstrap_results/step_size:0' shape=() dtype=float32>,\n",
      "              num_leapfrog_steps=<tf.Tensor 'mcmc_sample_chain/simple_step_size_adaptation___init__/_bootstrap_results/transformed_kernel_bootstrap_results/mh_bootstrap_results/hmc_kernel_bootstrap_results/num_leapfrog_steps:0' shape=() dtype=int32>,\n",
      "              seed=<tf.Tensor 'mcmc_sample_chain/simple_step_size_adaptation___init__/_bootstrap_results/transformed_kernel_bootstrap_results/mh_bootstrap_results/hmc_kernel_bootstrap_results/Const:0' shape=(2,) dtype=int32>\n",
      "            ),\n",
      "          extra=[],\n",
      "          seed=<tf.Tensor 'mcmc_sample_chain/simple_step_size_adaptation___init__/_bootstrap_results/transformed_kernel_bootstrap_results/mh_bootstrap_results/Const:0' shape=(2,) dtype=int32>\n",
      "        )\n",
      "    ),\n",
      "  target_accept_prob=<tf.Tensor 'simple_step_size_adaptation___init__/target_accept_prob:0' shape=() dtype=float32>,\n",
      "  adaptation_rate=<tf.Tensor 'simple_step_size_adaptation___init__/adaptation_rate:0' shape=() dtype=float32>,\n",
      "  step=<tf.Tensor 'mcmc_sample_chain/simple_step_size_adaptation___init__/_bootstrap_results/Const:0' shape=() dtype=int32>,\n",
      "  new_step_size=<tf.Tensor 'mcmc_sample_chain/simple_step_size_adaptation___init__/_bootstrap_results/transformed_kernel_bootstrap_results/mh_bootstrap_results/hmc_kernel_bootstrap_results/step_size:0' shape=() dtype=float32>\n",
      ")\n",
      "SimpleStepSizeAdaptationResults(\n",
      "  inner_results=TransformedTransitionKernelResults(\n",
      "      transformed_state=[<tf.Tensor 'mcmc_sample_chain/trace_scan/while/smart_for_loop/while:5' shape=(4, 1) dtype=float32>],\n",
      "      inner_results=MetropolisHastingsKernelResults(\n",
      "          accepted_results=UncalibratedHamiltonianMonteCarloKernelResults(\n",
      "              log_acceptance_correction=<tf.Tensor 'mcmc_sample_chain/trace_scan/while/smart_for_loop/while:6' shape=(4,) dtype=float32>,\n",
      "              target_log_prob=<tf.Tensor 'mcmc_sample_chain/trace_scan/while/smart_for_loop/while:7' shape=(4,) dtype=float32>,\n",
      "              grads_target_log_prob=[<tf.Tensor 'mcmc_sample_chain/trace_scan/while/smart_for_loop/while:8' shape=(4, 1) dtype=float32>],\n",
      "              initial_momentum=[<tf.Tensor 'mcmc_sample_chain/trace_scan/while/smart_for_loop/while:9' shape=(4, 1) dtype=float32>],\n",
      "              final_momentum=[<tf.Tensor 'mcmc_sample_chain/trace_scan/while/smart_for_loop/while:10' shape=(4, 1) dtype=float32>],\n",
      "              step_size=<tf.Tensor 'mcmc_sample_chain/trace_scan/while/smart_for_loop/while:11' shape=() dtype=float32>,\n",
      "              num_leapfrog_steps=<tf.Tensor 'mcmc_sample_chain/trace_scan/while/smart_for_loop/while:12' shape=() dtype=int32>,\n",
      "              seed=[]\n",
      "            ),\n",
      "          is_accepted=<tf.Tensor 'mcmc_sample_chain/trace_scan/while/smart_for_loop/while:13' shape=(4,) dtype=bool>,\n",
      "          log_accept_ratio=<tf.Tensor 'mcmc_sample_chain/trace_scan/while/smart_for_loop/while:14' shape=(4,) dtype=float32>,\n",
      "          proposed_state=[<tf.Tensor 'mcmc_sample_chain/trace_scan/while/smart_for_loop/while:15' shape=(4, 1) dtype=float32>],\n",
      "          proposed_results=UncalibratedHamiltonianMonteCarloKernelResults(\n",
      "              log_acceptance_correction=<tf.Tensor 'mcmc_sample_chain/trace_scan/while/smart_for_loop/while:16' shape=(4,) dtype=float32>,\n",
      "              target_log_prob=<tf.Tensor 'mcmc_sample_chain/trace_scan/while/smart_for_loop/while:17' shape=(4,) dtype=float32>,\n",
      "              grads_target_log_prob=[<tf.Tensor 'mcmc_sample_chain/trace_scan/while/smart_for_loop/while:18' shape=(4, 1) dtype=float32>],\n",
      "              initial_momentum=[<tf.Tensor 'mcmc_sample_chain/trace_scan/while/smart_for_loop/while:19' shape=(4, 1) dtype=float32>],\n",
      "              final_momentum=[<tf.Tensor 'mcmc_sample_chain/trace_scan/while/smart_for_loop/while:20' shape=(4, 1) dtype=float32>],\n",
      "              step_size=<tf.Tensor 'mcmc_sample_chain/trace_scan/while/smart_for_loop/while:21' shape=() dtype=float32>,\n",
      "              num_leapfrog_steps=<tf.Tensor 'mcmc_sample_chain/trace_scan/while/smart_for_loop/while:22' shape=() dtype=int32>,\n",
      "              seed=<tf.Tensor 'mcmc_sample_chain/trace_scan/while/smart_for_loop/while:23' shape=(2,) dtype=int32>\n",
      "            ),\n",
      "          extra=[],\n",
      "          seed=<tf.Tensor 'mcmc_sample_chain/trace_scan/while/smart_for_loop/while:24' shape=(2,) dtype=int32>\n",
      "        )\n",
      "    ),\n",
      "  target_accept_prob=<tf.Tensor 'mcmc_sample_chain/trace_scan/while/smart_for_loop/while:25' shape=() dtype=float32>,\n",
      "  adaptation_rate=<tf.Tensor 'mcmc_sample_chain/trace_scan/while/smart_for_loop/while:26' shape=() dtype=float32>,\n",
      "  step=<tf.Tensor 'mcmc_sample_chain/trace_scan/while/smart_for_loop/while:27' shape=() dtype=int32>,\n",
      "  new_step_size=<tf.Tensor 'mcmc_sample_chain/trace_scan/while/smart_for_loop/while:28' shape=() dtype=float32>\n",
      ")\n"
     ]
    },
    {
     "data": {
      "text/html": [
       "<div>\n",
       "<style scoped>\n",
       "    .dataframe tbody tr th:only-of-type {\n",
       "        vertical-align: middle;\n",
       "    }\n",
       "\n",
       "    .dataframe tbody tr th {\n",
       "        vertical-align: top;\n",
       "    }\n",
       "\n",
       "    .dataframe thead th {\n",
       "        text-align: right;\n",
       "    }\n",
       "</style>\n",
       "<table border=\"1\" class=\"dataframe\">\n",
       "  <thead>\n",
       "    <tr style=\"text-align: right;\">\n",
       "      <th></th>\n",
       "      <th>mean</th>\n",
       "      <th>sd</th>\n",
       "      <th>hdi_5.5%</th>\n",
       "      <th>hdi_94.5%</th>\n",
       "    </tr>\n",
       "  </thead>\n",
       "  <tbody>\n",
       "    <tr>\n",
       "      <th>a[0]</th>\n",
       "      <td>0.32</td>\n",
       "      <td>0.09</td>\n",
       "      <td>0.18</td>\n",
       "      <td>0.47</td>\n",
       "    </tr>\n",
       "  </tbody>\n",
       "</table>\n",
       "</div>"
      ],
      "text/plain": [
       "      mean    sd  hdi_5.5%  hdi_94.5%\n",
       "a[0]  0.32  0.09      0.18       0.47"
      ]
     },
     "execution_count": 1,
     "metadata": {},
     "output_type": "execute_result"
    }
   ],
   "source": [
    "from main import*\n",
    "d = pd.read_csv('./data/chimpanzees.csv', sep = ';')\n",
    "d[\"treatment\"] = 1 + d.prosoc_left + 2 * d.condition\n",
    "d[\"side\"] = d.prosoc_left  # right 0, left 1\n",
    "d[\"cond\"] = d.condition  # no partner 0, partner 1\n",
    "\n",
    "d_aggregated = (\n",
    "    d.groupby([\"treatment\", \"actor\", \"side\", \"cond\"])[\"pulled_left\"].sum().reset_index()\n",
    ")\n",
    "d_aggregated.rename(columns={\"pulled_left\": \"left_pulls\"}, inplace=True)\n",
    "d_aggregated[\"actor_id\"] = d_aggregated[\"actor\"].values - 1\n",
    "\n",
    "formula = dict(\n",
    "    main = 'pulled_left ~ Binomial( 1 , logits = p )' ,\n",
    "    likelihood = 'p ~ a' ,\n",
    "    prior1 = 'a ~ Normal( 0 , 10 )'\n",
    ")\n",
    "\n",
    "m11_1 = model(formula, d)\n",
    "m11_1.fit(observed_data = dict(pulled_left =d.pulled_left.astype('float32').values),\n",
    "                                           num_results = 2000, num_burnin_steps=500, num_adaptation_steps=400, num_chains=4)\n",
    "m11_1.summary()\n",
    "\n",
    "\n",
    "# expected\n",
    "#  mean   sd 5.5% 94.5%\n",
    "#a 0.32 0.09 0.18  0.46"
   ]
  },
  {
   "cell_type": "markdown",
   "metadata": {},
   "source": [
    "# <a id='toc12_'></a>[Binomial with index](#toc0_)"
   ]
  },
  {
   "cell_type": "code",
   "execution_count": 11,
   "metadata": {},
   "outputs": [
    {
     "name": "stderr",
     "output_type": "stream",
     "text": [
      "2024-02-08 09:54:44.395553: I external/local_xla/xla/stream_executor/cuda/cuda_executor.cc:887] could not open file to read NUMA node: /sys/bus/pci/devices/0000:01:00.0/numa_node\n",
      "Your kernel may have been built without NUMA support.\n",
      "2024-02-08 09:54:44.395623: I external/local_xla/xla/stream_executor/cuda/cuda_executor.cc:887] could not open file to read NUMA node: /sys/bus/pci/devices/0000:01:00.0/numa_node\n",
      "Your kernel may have been built without NUMA support.\n",
      "2024-02-08 09:54:44.395639: I external/local_xla/xla/stream_executor/cuda/cuda_executor.cc:887] could not open file to read NUMA node: /sys/bus/pci/devices/0000:01:00.0/numa_node\n",
      "Your kernel may have been built without NUMA support.\n",
      "2024-02-08 09:54:44.395855: I external/local_xla/xla/stream_executor/cuda/cuda_executor.cc:887] could not open file to read NUMA node: /sys/bus/pci/devices/0000:01:00.0/numa_node\n",
      "Your kernel may have been built without NUMA support.\n",
      "2024-02-08 09:54:44.395867: I tensorflow/core/common_runtime/gpu/gpu_device.cc:2022] Could not identify NUMA node of platform GPU id 0, defaulting to 0.  Your kernel may not have been built with NUMA support.\n",
      "2024-02-08 09:54:44.395888: I external/local_xla/xla/stream_executor/cuda/cuda_executor.cc:887] could not open file to read NUMA node: /sys/bus/pci/devices/0000:01:00.0/numa_node\n",
      "Your kernel may have been built without NUMA support.\n",
      "2024-02-08 09:54:44.395903: I tensorflow/core/common_runtime/gpu/gpu_device.cc:1929] Created device /device:GPU:0 with 5679 MB memory:  -> device: 0, name: NVIDIA GeForce RTX 3050 OEM, pci bus id: 0000:01:00.0, compute capability: 8.6\n"
     ]
    },
    {
     "data": {
      "text/html": [
       "<div>\n",
       "<style scoped>\n",
       "    .dataframe tbody tr th:only-of-type {\n",
       "        vertical-align: middle;\n",
       "    }\n",
       "\n",
       "    .dataframe tbody tr th {\n",
       "        vertical-align: top;\n",
       "    }\n",
       "\n",
       "    .dataframe thead th {\n",
       "        text-align: right;\n",
       "    }\n",
       "</style>\n",
       "<table border=\"1\" class=\"dataframe\">\n",
       "  <thead>\n",
       "    <tr style=\"text-align: right;\">\n",
       "      <th></th>\n",
       "      <th>mean</th>\n",
       "      <th>sd</th>\n",
       "      <th>hdi_5.5%</th>\n",
       "      <th>hdi_94.5%</th>\n",
       "    </tr>\n",
       "  </thead>\n",
       "  <tbody>\n",
       "    <tr>\n",
       "      <th>b[0]</th>\n",
       "      <td>-0.04</td>\n",
       "      <td>0.29</td>\n",
       "      <td>-0.48</td>\n",
       "      <td>0.45</td>\n",
       "    </tr>\n",
       "    <tr>\n",
       "      <th>b[1]</th>\n",
       "      <td>0.48</td>\n",
       "      <td>0.29</td>\n",
       "      <td>0.03</td>\n",
       "      <td>0.95</td>\n",
       "    </tr>\n",
       "    <tr>\n",
       "      <th>b[2]</th>\n",
       "      <td>-0.40</td>\n",
       "      <td>0.28</td>\n",
       "      <td>-0.82</td>\n",
       "      <td>0.07</td>\n",
       "    </tr>\n",
       "    <tr>\n",
       "      <th>b[3]</th>\n",
       "      <td>0.38</td>\n",
       "      <td>0.29</td>\n",
       "      <td>-0.08</td>\n",
       "      <td>0.83</td>\n",
       "    </tr>\n",
       "    <tr>\n",
       "      <th>a[0]</th>\n",
       "      <td>-0.46</td>\n",
       "      <td>0.33</td>\n",
       "      <td>-1.00</td>\n",
       "      <td>0.04</td>\n",
       "    </tr>\n",
       "    <tr>\n",
       "      <th>a[1]</th>\n",
       "      <td>3.89</td>\n",
       "      <td>0.75</td>\n",
       "      <td>2.71</td>\n",
       "      <td>5.06</td>\n",
       "    </tr>\n",
       "    <tr>\n",
       "      <th>a[2]</th>\n",
       "      <td>-0.75</td>\n",
       "      <td>0.33</td>\n",
       "      <td>-1.29</td>\n",
       "      <td>-0.24</td>\n",
       "    </tr>\n",
       "    <tr>\n",
       "      <th>a[3]</th>\n",
       "      <td>-0.75</td>\n",
       "      <td>0.33</td>\n",
       "      <td>-1.28</td>\n",
       "      <td>-0.21</td>\n",
       "    </tr>\n",
       "    <tr>\n",
       "      <th>a[4]</th>\n",
       "      <td>-0.46</td>\n",
       "      <td>0.34</td>\n",
       "      <td>-1.00</td>\n",
       "      <td>0.06</td>\n",
       "    </tr>\n",
       "    <tr>\n",
       "      <th>a[5]</th>\n",
       "      <td>0.47</td>\n",
       "      <td>0.33</td>\n",
       "      <td>-0.04</td>\n",
       "      <td>1.03</td>\n",
       "    </tr>\n",
       "    <tr>\n",
       "      <th>a[6]</th>\n",
       "      <td>1.95</td>\n",
       "      <td>0.41</td>\n",
       "      <td>1.28</td>\n",
       "      <td>2.60</td>\n",
       "    </tr>\n",
       "  </tbody>\n",
       "</table>\n",
       "</div>"
      ],
      "text/plain": [
       "      mean    sd  hdi_5.5%  hdi_94.5%\n",
       "b[0] -0.04  0.29     -0.48       0.45\n",
       "b[1]  0.48  0.29      0.03       0.95\n",
       "b[2] -0.40  0.28     -0.82       0.07\n",
       "b[3]  0.38  0.29     -0.08       0.83\n",
       "a[0] -0.46  0.33     -1.00       0.04\n",
       "a[1]  3.89  0.75      2.71       5.06\n",
       "a[2] -0.75  0.33     -1.29      -0.24\n",
       "a[3] -0.75  0.33     -1.28      -0.21\n",
       "a[4] -0.46  0.34     -1.00       0.06\n",
       "a[5]  0.47  0.33     -0.04       1.03\n",
       "a[6]  1.95  0.41      1.28       2.60"
      ]
     },
     "execution_count": 11,
     "metadata": {},
     "output_type": "execute_result"
    }
   ],
   "source": [
    "from main import*\n",
    "d = pd.read_csv('./data/chimpanzees.csv', sep = ';')\n",
    "d.actor = d.actor - 1\n",
    "d[\"treatment\"] = d.prosoc_left + 2 * d.condition\n",
    "d[[\"actor\", \"prosoc_left\", \"condition\", \"treatment\"]]\n",
    "\n",
    "\n",
    "formula = dict(\n",
    "    main = 'pulled_left ~ Binomial(1 , p )' ,\n",
    "    likelihood = 'p ~ a[actor] + b[treatment]' ,\n",
    "    prior1 = 'a ~ Normal(0,1.5)',\n",
    "    prior2 = 'b ~ Normal(0,0.5)'\n",
    ")\n",
    "m11_4 = model(formula, d, float = 32)\n",
    "m11_4.fit(observed_data = dict(pulled_left =d.pulled_left.astype('float32').values),\n",
    "                                           num_results = 2000, num_burnin_steps=500, num_adaptation_steps=400, num_chains=4)\n",
    "m11_4.summary()\n",
    "# Expected\n",
    "#          mean    sd   5.5%    94.5%   n_eff Rhat\n",
    "#a[1]   -0.45    0.32   -0.95    0.04   690 1\n",
    "#a[2]   3.86     0.73   2.78     5.09   1417 1\n",
    "#a[3]   -0.75    0.33   -1.28    -0.23   765 1\n",
    "#a[4]   -0.74    0.33   -1.26    -0.21   887 1\n",
    "#a[5]   -0.44    0.32   -0.94    0.10   743 1\n",
    "#a[6]   0.48     0.32   -0.02    1.00   894 1\n",
    "#a[7]   1.95     0.40   1.32    2.63    882 1\n",
    "#b[1]   -0.04    0.28   -0.51    0.40   669 1\n",
    "#b[2]   0.48     0.28   0.04    0.92    675 1\n",
    "#b[3]   -0.38    0.28   -0.83    0.06    768 1\n",
    "#b[4]   0.37     0.27   -0.07    0.79   666 1\n"
   ]
  },
  {
   "cell_type": "code",
   "execution_count": 12,
   "metadata": {},
   "outputs": [
    {
     "data": {
      "text/plain": [
       "array([<Axes: >, <Axes: title={'center': 'ess'}>], dtype=object)"
      ]
     },
     "execution_count": 12,
     "metadata": {},
     "output_type": "execute_result"
    },
    {
     "data": {
      "image/png": "[encoded data removed]",
      "text/plain": [
       "<Figure size 1400x1128 with 2 Axes>"
      ]
     },
     "metadata": {},
     "output_type": "display_data"
    }
   ],
   "source": [
    "m11_4.diag_forest()"
   ]
  },
  {
   "cell_type": "markdown",
   "metadata": {},
   "source": []
  },
  {
   "cell_type": "markdown",
   "metadata": {},
   "source": [
    "# <a id='toc13_'></a>[Poisson](#toc0_)"
   ]
  },
  {
   "cell_type": "code",
   "execution_count": 26,
   "metadata": {},
   "outputs": [
    {
     "name": "stderr",
     "output_type": "stream",
     "text": [
      "2024-02-08 10:04:25.441451: I external/local_xla/xla/stream_executor/cuda/cuda_executor.cc:887] could not open file to read NUMA node: /sys/bus/pci/devices/0000:01:00.0/numa_node\n",
      "Your kernel may have been built without NUMA support.\n",
      "2024-02-08 10:04:25.441512: I external/local_xla/xla/stream_executor/cuda/cuda_executor.cc:887] could not open file to read NUMA node: /sys/bus/pci/devices/0000:01:00.0/numa_node\n",
      "Your kernel may have been built without NUMA support.\n",
      "2024-02-08 10:04:25.441526: I external/local_xla/xla/stream_executor/cuda/cuda_executor.cc:887] could not open file to read NUMA node: /sys/bus/pci/devices/0000:01:00.0/numa_node\n",
      "Your kernel may have been built without NUMA support.\n",
      "2024-02-08 10:04:25.441684: I external/local_xla/xla/stream_executor/cuda/cuda_executor.cc:887] could not open file to read NUMA node: /sys/bus/pci/devices/0000:01:00.0/numa_node\n",
      "Your kernel may have been built without NUMA support.\n",
      "2024-02-08 10:04:25.441695: I tensorflow/core/common_runtime/gpu/gpu_device.cc:2022] Could not identify NUMA node of platform GPU id 0, defaulting to 0.  Your kernel may not have been built with NUMA support.\n",
      "2024-02-08 10:04:25.441713: I external/local_xla/xla/stream_executor/cuda/cuda_executor.cc:887] could not open file to read NUMA node: /sys/bus/pci/devices/0000:01:00.0/numa_node\n",
      "Your kernel may have been built without NUMA support.\n",
      "2024-02-08 10:04:25.441729: I tensorflow/core/common_runtime/gpu/gpu_device.cc:1929] Created device /device:GPU:0 with 5679 MB memory:  -> device: 0, name: NVIDIA GeForce RTX 3050 OEM, pci bus id: 0000:01:00.0, compute capability: 8.6\n"
     ]
    },
    {
     "data": {
      "text/html": [
       "<div>\n",
       "<style scoped>\n",
       "    .dataframe tbody tr th:only-of-type {\n",
       "        vertical-align: middle;\n",
       "    }\n",
       "\n",
       "    .dataframe tbody tr th {\n",
       "        vertical-align: top;\n",
       "    }\n",
       "\n",
       "    .dataframe thead th {\n",
       "        text-align: right;\n",
       "    }\n",
       "</style>\n",
       "<table border=\"1\" class=\"dataframe\">\n",
       "  <thead>\n",
       "    <tr style=\"text-align: right;\">\n",
       "      <th></th>\n",
       "      <th>mean</th>\n",
       "      <th>sd</th>\n",
       "      <th>hdi_5.5%</th>\n",
       "      <th>hdi_94.5%</th>\n",
       "    </tr>\n",
       "  </thead>\n",
       "  <tbody>\n",
       "    <tr>\n",
       "      <th>alpha[0]</th>\n",
       "      <td>3.54</td>\n",
       "      <td>0.05</td>\n",
       "      <td>3.45</td>\n",
       "      <td>3.62</td>\n",
       "    </tr>\n",
       "  </tbody>\n",
       "</table>\n",
       "</div>"
      ],
      "text/plain": [
       "          mean    sd  hdi_5.5%  hdi_94.5%\n",
       "alpha[0]  3.54  0.05      3.45       3.62"
      ]
     },
     "execution_count": 26,
     "metadata": {},
     "output_type": "execute_result"
    }
   ],
   "source": [
    "from main import*\n",
    "d = pd.read_csv('./data/Kline.csv', sep = ';')\n",
    "d[\"P\"] = d.population.pipe(np.log).pipe(lambda x: (x - x.mean()) / x.std())\n",
    "d[\"cid\"] = (d.contact == \"high\").astype(int)\n",
    "d['pLog'] = tf.math.log(d.P).numpy()\n",
    "formula = dict(main = 'total_tools ~ Poisson(log_rate = lambda)',\n",
    "               likelihood = 'lambda ~ alpha',\n",
    "               prior1 = 'alpha ~ Normal(3,0.5)')\n",
    "m11_9 = model(formula, d)\n",
    "m11_9.fit(observed_data = dict(total_tools =d.total_tools.astype('float32').values),\n",
    "                                           num_results = 2000, num_burnin_steps=500, num_adaptation_steps=400, num_chains=4)\n",
    "m11_9.summary()\n",
    "#Expected\n",
    "#  mean   sd 5.5% 94.5% rhat ess_bulk\n",
    "#a 3.54 0.05 3.46  3.63 1.01   679.05"
   ]
  },
  {
   "cell_type": "code",
   "execution_count": 27,
   "metadata": {},
   "outputs": [
    {
     "name": "stderr",
     "output_type": "stream",
     "text": [
      "2024-02-08 10:04:30.966723: I external/local_xla/xla/stream_executor/cuda/cuda_executor.cc:887] could not open file to read NUMA node: /sys/bus/pci/devices/0000:01:00.0/numa_node\n",
      "Your kernel may have been built without NUMA support.\n",
      "2024-02-08 10:04:30.966779: I external/local_xla/xla/stream_executor/cuda/cuda_executor.cc:887] could not open file to read NUMA node: /sys/bus/pci/devices/0000:01:00.0/numa_node\n",
      "Your kernel may have been built without NUMA support.\n",
      "2024-02-08 10:04:30.966792: I external/local_xla/xla/stream_executor/cuda/cuda_executor.cc:887] could not open file to read NUMA node: /sys/bus/pci/devices/0000:01:00.0/numa_node\n",
      "Your kernel may have been built without NUMA support.\n",
      "2024-02-08 10:04:30.966968: I external/local_xla/xla/stream_executor/cuda/cuda_executor.cc:887] could not open file to read NUMA node: /sys/bus/pci/devices/0000:01:00.0/numa_node\n",
      "Your kernel may have been built without NUMA support.\n",
      "2024-02-08 10:04:30.966982: I tensorflow/core/common_runtime/gpu/gpu_device.cc:2022] Could not identify NUMA node of platform GPU id 0, defaulting to 0.  Your kernel may not have been built with NUMA support.\n",
      "2024-02-08 10:04:30.967005: I external/local_xla/xla/stream_executor/cuda/cuda_executor.cc:887] could not open file to read NUMA node: /sys/bus/pci/devices/0000:01:00.0/numa_node\n",
      "Your kernel may have been built without NUMA support.\n",
      "2024-02-08 10:04:30.967022: I tensorflow/core/common_runtime/gpu/gpu_device.cc:1929] Created device /device:GPU:0 with 5679 MB memory:  -> device: 0, name: NVIDIA GeForce RTX 3050 OEM, pci bus id: 0000:01:00.0, compute capability: 8.6\n"
     ]
    },
    {
     "data": {
      "text/html": [
       "<div>\n",
       "<style scoped>\n",
       "    .dataframe tbody tr th:only-of-type {\n",
       "        vertical-align: middle;\n",
       "    }\n",
       "\n",
       "    .dataframe tbody tr th {\n",
       "        vertical-align: top;\n",
       "    }\n",
       "\n",
       "    .dataframe thead th {\n",
       "        text-align: right;\n",
       "    }\n",
       "</style>\n",
       "<table border=\"1\" class=\"dataframe\">\n",
       "  <thead>\n",
       "    <tr style=\"text-align: right;\">\n",
       "      <th></th>\n",
       "      <th>mean</th>\n",
       "      <th>sd</th>\n",
       "      <th>hdi_5.5%</th>\n",
       "      <th>hdi_94.5%</th>\n",
       "    </tr>\n",
       "  </thead>\n",
       "  <tbody>\n",
       "    <tr>\n",
       "      <th>beta[0]</th>\n",
       "      <td>0.38</td>\n",
       "      <td>0.05</td>\n",
       "      <td>0.29</td>\n",
       "      <td>0.46</td>\n",
       "    </tr>\n",
       "    <tr>\n",
       "      <th>beta[1]</th>\n",
       "      <td>0.19</td>\n",
       "      <td>0.16</td>\n",
       "      <td>-0.08</td>\n",
       "      <td>0.43</td>\n",
       "    </tr>\n",
       "    <tr>\n",
       "      <th>alpha[0]</th>\n",
       "      <td>3.32</td>\n",
       "      <td>0.09</td>\n",
       "      <td>3.18</td>\n",
       "      <td>3.45</td>\n",
       "    </tr>\n",
       "    <tr>\n",
       "      <th>alpha[1]</th>\n",
       "      <td>3.61</td>\n",
       "      <td>0.07</td>\n",
       "      <td>3.48</td>\n",
       "      <td>3.72</td>\n",
       "    </tr>\n",
       "  </tbody>\n",
       "</table>\n",
       "</div>"
      ],
      "text/plain": [
       "          mean    sd  hdi_5.5%  hdi_94.5%\n",
       "beta[0]   0.38  0.05      0.29       0.46\n",
       "beta[1]   0.19  0.16     -0.08       0.43\n",
       "alpha[0]  3.32  0.09      3.18       3.45\n",
       "alpha[1]  3.61  0.07      3.48       3.72"
      ]
     },
     "execution_count": 27,
     "metadata": {},
     "output_type": "execute_result"
    }
   ],
   "source": [
    "formula = dict(main = 'total_tools ~ Poisson(log_rate = lambda)',\n",
    "               likelihood = 'lambda ~ alpha[cid] + beta[cid]*P',\n",
    "               prior1 = 'alpha ~ Normal(3,0.5)',\n",
    "               prior2 = 'beta ~ Normal(0,0.2)')\n",
    "m11_10 = model(formula, d)\n",
    "m11_10.fit(observed_data = dict(total_tools =d.total_tools.astype('float32').values),\n",
    "                                           num_results = 2000, num_burnin_steps=500, num_adaptation_steps=400, num_chains=4)\n",
    "m11_10.summary()\n",
    "# Expected\n",
    "#     mean   sd     5.5%    94.5% rhat ess_bulk\n",
    "#a[1] 3.32  0.09     3.19   3.46    1  1553.42\n",
    "#a[2] 3.61  0.07     3.49   3.73    1  2004.06\n",
    "#b[1] 0.38  0.05     0.29   0.46    1  1769.96\n",
    "#b[2] 0.18  0.16    -0.07   0.45    1  1747.86"
   ]
  },
  {
   "cell_type": "code",
   "execution_count": 28,
   "metadata": {},
   "outputs": [
    {
     "name": "stderr",
     "output_type": "stream",
     "text": [
      "/home/sosa/.local/lib/python3.10/site-packages/arviz/stats/stats.py:805: UserWarning: Estimated shape parameter of Pareto distribution is greater than 0.7 for one or more samples. You should consider using a more robust model, this is because importance sampling is less likely to work well if the marginal posterior and LOO posterior are very different. This is more likely to happen with a non-robust model and highly influential observations.\n",
      "  warnings.warn(\n",
      "/home/sosa/.local/lib/python3.10/site-packages/arviz/stats/stats.py:839: UserWarning: The point-wise LOO is the same with the sum LOO, please double check the Observed RV in your model to make sure it returns element-wise logp.\n",
      "  warnings.warn(\n",
      "/home/sosa/.local/lib/python3.10/site-packages/arviz/stats/stats.py:805: UserWarning: Estimated shape parameter of Pareto distribution is greater than 0.7 for one or more samples. You should consider using a more robust model, this is because importance sampling is less likely to work well if the marginal posterior and LOO posterior are very different. This is more likely to happen with a non-robust model and highly influential observations.\n",
      "  warnings.warn(\n",
      "/home/sosa/.local/lib/python3.10/site-packages/arviz/stats/stats.py:839: UserWarning: The point-wise LOO is the same with the sum LOO, please double check the Observed RV in your model to make sure it returns element-wise logp.\n",
      "  warnings.warn(\n",
      "/home/sosa/.local/lib/python3.10/site-packages/arviz/stats/stats.py:309: FutureWarning: Setting an item of incompatible dtype is deprecated and will raise in a future error of pandas. Value 'True' has dtype incompatible with float64, please explicitly cast to a compatible dtype first.\n",
      "  df_comp.loc[val] = (\n",
      "/home/sosa/.local/lib/python3.10/site-packages/arviz/stats/stats.py:309: FutureWarning: Setting an item of incompatible dtype is deprecated and will raise in a future error of pandas. Value 'log' has dtype incompatible with float64, please explicitly cast to a compatible dtype first.\n",
      "  df_comp.loc[val] = (\n"
     ]
    },
    {
     "data": {
      "text/html": [
       "<div>\n",
       "<style scoped>\n",
       "    .dataframe tbody tr th:only-of-type {\n",
       "        vertical-align: middle;\n",
       "    }\n",
       "\n",
       "    .dataframe tbody tr th {\n",
       "        vertical-align: top;\n",
       "    }\n",
       "\n",
       "    .dataframe thead th {\n",
       "        text-align: right;\n",
       "    }\n",
       "</style>\n",
       "<table border=\"1\" class=\"dataframe\">\n",
       "  <thead>\n",
       "    <tr style=\"text-align: right;\">\n",
       "      <th></th>\n",
       "      <th>rank</th>\n",
       "      <th>elpd_loo</th>\n",
       "      <th>p_loo</th>\n",
       "      <th>elpd_diff</th>\n",
       "      <th>weight</th>\n",
       "      <th>se</th>\n",
       "      <th>dse</th>\n",
       "      <th>warning</th>\n",
       "      <th>scale</th>\n",
       "    </tr>\n",
       "  </thead>\n",
       "  <tbody>\n",
       "    <tr>\n",
       "      <th>m11_10</th>\n",
       "      <td>0</td>\n",
       "      <td>-42.841156</td>\n",
       "      <td>2.865967</td>\n",
       "      <td>0.000000</td>\n",
       "      <td>1.0</td>\n",
       "      <td>0.0</td>\n",
       "      <td>0.0</td>\n",
       "      <td>True</td>\n",
       "      <td>log</td>\n",
       "    </tr>\n",
       "    <tr>\n",
       "      <th>m11_9</th>\n",
       "      <td>1</td>\n",
       "      <td>-67.775467</td>\n",
       "      <td>0.890450</td>\n",
       "      <td>24.934311</td>\n",
       "      <td>0.0</td>\n",
       "      <td>0.0</td>\n",
       "      <td>0.0</td>\n",
       "      <td>True</td>\n",
       "      <td>log</td>\n",
       "    </tr>\n",
       "  </tbody>\n",
       "</table>\n",
       "</div>"
      ],
      "text/plain": [
       "        rank   elpd_loo     p_loo  elpd_diff  weight   se  dse  warning scale\n",
       "m11_10     0 -42.841156  2.865967   0.000000     1.0  0.0  0.0     True   log\n",
       "m11_9      1 -67.775467  0.890450  24.934311     0.0  0.0  0.0     True   log"
      ]
     },
     "execution_count": 28,
     "metadata": {},
     "output_type": "execute_result"
    }
   ],
   "source": [
    "m11_9.diag_compare({'m11_9': m11_9.trace, 'm11_10': m11_10.trace})"
   ]
  },
  {
   "cell_type": "markdown",
   "metadata": {},
   "source": [
    "# <a id='toc14_'></a>[This doesn't work due to 'P^' -> need to implement mathematical operation within formulas](#toc0_)"
   ]
  },
  {
   "cell_type": "code",
   "execution_count": 16,
   "metadata": {},
   "outputs": [
    {
     "data": {
      "text/plain": [
       "{'alpha': <tfp.distributions.Sample 'SampleNormal' batch_shape=[] event_shape=[2] dtype=float32>,\n",
       " 'beta': <tfp.distributions.Sample 'SampleNormal' batch_shape=[] event_shape=[2] dtype=float32>,\n",
       " 'total_tools': <function <lambda>(alpha, beta)>}"
      ]
     },
     "execution_count": 16,
     "metadata": {},
     "output_type": "execute_result"
    },
    {
     "name": "stderr",
     "output_type": "stream",
     "text": [
      "2024-02-08 09:55:03.485895: I external/local_xla/xla/stream_executor/cuda/cuda_executor.cc:887] could not open file to read NUMA node: /sys/bus/pci/devices/0000:01:00.0/numa_node\n",
      "Your kernel may have been built without NUMA support.\n",
      "2024-02-08 09:55:03.485977: I external/local_xla/xla/stream_executor/cuda/cuda_executor.cc:887] could not open file to read NUMA node: /sys/bus/pci/devices/0000:01:00.0/numa_node\n",
      "Your kernel may have been built without NUMA support.\n",
      "2024-02-08 09:55:03.485997: I external/local_xla/xla/stream_executor/cuda/cuda_executor.cc:887] could not open file to read NUMA node: /sys/bus/pci/devices/0000:01:00.0/numa_node\n",
      "Your kernel may have been built without NUMA support.\n",
      "2024-02-08 09:55:03.486113: I external/local_xla/xla/stream_executor/cuda/cuda_executor.cc:887] could not open file to read NUMA node: /sys/bus/pci/devices/0000:01:00.0/numa_node\n",
      "Your kernel may have been built without NUMA support.\n",
      "2024-02-08 09:55:03.486120: I tensorflow/core/common_runtime/gpu/gpu_device.cc:2022] Could not identify NUMA node of platform GPU id 0, defaulting to 0.  Your kernel may not have been built with NUMA support.\n",
      "2024-02-08 09:55:03.486136: I external/local_xla/xla/stream_executor/cuda/cuda_executor.cc:887] could not open file to read NUMA node: /sys/bus/pci/devices/0000:01:00.0/numa_node\n",
      "Your kernel may have been built without NUMA support.\n",
      "2024-02-08 09:55:03.486148: I tensorflow/core/common_runtime/gpu/gpu_device.cc:1929] Created device /device:GPU:0 with 5679 MB memory:  -> device: 0, name: NVIDIA GeForce RTX 3050 OEM, pci bus id: 0000:01:00.0, compute capability: 8.6\n"
     ]
    }
   ],
   "source": [
    "from main import*\n",
    "d = pd.read_csv('./data/Kline.csv', sep = ';')\n",
    "d[\"P\"] = d.population.pipe(np.log).pipe(lambda x: (x - x.mean()) / x.std())\n",
    "d[\"cid\"] = (d.contact == \"high\").astype(int)\n",
    "d['pLog'] = tf.math.log(d.P).numpy()\n",
    "formula = dict(main = 'total_tools ~ Poisson(log_rate = lambda)',\n",
    "               likelihood = 'lambda ~ alpha[cid] +  P^beta[cid]',\n",
    "               prior1 = 'alpha ~ Normal(3.,0.5)',\n",
    "               prior2 = 'beta ~ Normal(0,0.2)')\n",
    "m11_11 = model(formula, d)\n",
    "m11_11.tensor_dict"
   ]
  },
  {
   "cell_type": "markdown",
   "metadata": {},
   "source": [
    "# <a id='toc15_'></a>[Negative binomial](#toc0_)"
   ]
  },
  {
   "cell_type": "code",
   "execution_count": 1,
   "metadata": {},
   "outputs": [
    {
     "name": "stderr",
     "output_type": "stream",
     "text": [
      "2024-02-08 10:06:02.909196: I tensorflow/core/util/port.cc:113] oneDNN custom operations are on. You may see slightly different numerical results due to floating-point round-off errors from different computation orders. To turn them off, set the environment variable `TF_ENABLE_ONEDNN_OPTS=0`.\n",
      "2024-02-08 10:06:02.929491: E external/local_xla/xla/stream_executor/cuda/cuda_dnn.cc:9261] Unable to register cuDNN factory: Attempting to register factory for plugin cuDNN when one has already been registered\n",
      "2024-02-08 10:06:02.929510: E external/local_xla/xla/stream_executor/cuda/cuda_fft.cc:607] Unable to register cuFFT factory: Attempting to register factory for plugin cuFFT when one has already been registered\n",
      "2024-02-08 10:06:02.930082: E external/local_xla/xla/stream_executor/cuda/cuda_blas.cc:1515] Unable to register cuBLAS factory: Attempting to register factory for plugin cuBLAS when one has already been registered\n",
      "2024-02-08 10:06:02.933837: I tensorflow/core/platform/cpu_feature_guard.cc:182] This TensorFlow binary is optimized to use available CPU instructions in performance-critical operations.\n",
      "To enable the following instructions: AVX2 AVX_VNNI FMA, in other operations, rebuild TensorFlow with the appropriate compiler flags.\n",
      "2024-02-08 10:06:03.304516: W tensorflow/compiler/tf2tensorrt/utils/py_utils.cc:38] TF-TRT Warning: Could not find TensorRT\n",
      "2024-02-08 10:06:04.395335: I external/local_xla/xla/stream_executor/cuda/cuda_executor.cc:887] could not open file to read NUMA node: /sys/bus/pci/devices/0000:01:00.0/numa_node\n",
      "Your kernel may have been built without NUMA support.\n",
      "2024-02-08 10:06:04.412558: I external/local_xla/xla/stream_executor/cuda/cuda_executor.cc:887] could not open file to read NUMA node: /sys/bus/pci/devices/0000:01:00.0/numa_node\n",
      "Your kernel may have been built without NUMA support.\n",
      "2024-02-08 10:06:04.412589: I external/local_xla/xla/stream_executor/cuda/cuda_executor.cc:887] could not open file to read NUMA node: /sys/bus/pci/devices/0000:01:00.0/numa_node\n",
      "Your kernel may have been built without NUMA support.\n",
      "2024-02-08 10:06:04.414701: I external/local_xla/xla/stream_executor/cuda/cuda_executor.cc:887] could not open file to read NUMA node: /sys/bus/pci/devices/0000:01:00.0/numa_node\n",
      "Your kernel may have been built without NUMA support.\n",
      "2024-02-08 10:06:04.414729: I external/local_xla/xla/stream_executor/cuda/cuda_executor.cc:887] could not open file to read NUMA node: /sys/bus/pci/devices/0000:01:00.0/numa_node\n",
      "Your kernel may have been built without NUMA support.\n",
      "2024-02-08 10:06:04.414744: I external/local_xla/xla/stream_executor/cuda/cuda_executor.cc:887] could not open file to read NUMA node: /sys/bus/pci/devices/0000:01:00.0/numa_node\n",
      "Your kernel may have been built without NUMA support.\n",
      "2024-02-08 10:06:04.630373: I external/local_xla/xla/stream_executor/cuda/cuda_executor.cc:887] could not open file to read NUMA node: /sys/bus/pci/devices/0000:01:00.0/numa_node\n",
      "Your kernel may have been built without NUMA support.\n",
      "2024-02-08 10:06:04.630410: I external/local_xla/xla/stream_executor/cuda/cuda_executor.cc:887] could not open file to read NUMA node: /sys/bus/pci/devices/0000:01:00.0/numa_node\n",
      "Your kernel may have been built without NUMA support.\n",
      "2024-02-08 10:06:04.630414: I tensorflow/core/common_runtime/gpu/gpu_device.cc:2022] Could not identify NUMA node of platform GPU id 0, defaulting to 0.  Your kernel may not have been built with NUMA support.\n",
      "2024-02-08 10:06:04.630435: I external/local_xla/xla/stream_executor/cuda/cuda_executor.cc:887] could not open file to read NUMA node: /sys/bus/pci/devices/0000:01:00.0/numa_node\n",
      "Your kernel may have been built without NUMA support.\n",
      "2024-02-08 10:06:04.630450: I tensorflow/core/common_runtime/gpu/gpu_device.cc:1929] Created device /job:localhost/replica:0/task:0/device:GPU:0 with 5679 MB memory:  -> device: 0, name: NVIDIA GeForce RTX 3050 OEM, pci bus id: 0000:01:00.0, compute capability: 8.6\n",
      "2024-02-08 10:06:06.196975: I external/local_xla/xla/stream_executor/cuda/cuda_executor.cc:887] could not open file to read NUMA node: /sys/bus/pci/devices/0000:01:00.0/numa_node\n",
      "Your kernel may have been built without NUMA support.\n",
      "2024-02-08 10:06:06.197038: I external/local_xla/xla/stream_executor/cuda/cuda_executor.cc:887] could not open file to read NUMA node: /sys/bus/pci/devices/0000:01:00.0/numa_node\n",
      "Your kernel may have been built without NUMA support.\n",
      "2024-02-08 10:06:06.197052: I external/local_xla/xla/stream_executor/cuda/cuda_executor.cc:887] could not open file to read NUMA node: /sys/bus/pci/devices/0000:01:00.0/numa_node\n",
      "Your kernel may have been built without NUMA support.\n",
      "2024-02-08 10:06:06.197273: I external/local_xla/xla/stream_executor/cuda/cuda_executor.cc:887] could not open file to read NUMA node: /sys/bus/pci/devices/0000:01:00.0/numa_node\n",
      "Your kernel may have been built without NUMA support.\n",
      "2024-02-08 10:06:06.197278: I tensorflow/core/common_runtime/gpu/gpu_device.cc:2022] Could not identify NUMA node of platform GPU id 0, defaulting to 0.  Your kernel may not have been built with NUMA support.\n",
      "2024-02-08 10:06:06.197292: I external/local_xla/xla/stream_executor/cuda/cuda_executor.cc:887] could not open file to read NUMA node: /sys/bus/pci/devices/0000:01:00.0/numa_node\n",
      "Your kernel may have been built without NUMA support.\n",
      "2024-02-08 10:06:06.197299: I tensorflow/core/common_runtime/gpu/gpu_device.cc:1929] Created device /device:GPU:0 with 5679 MB memory:  -> device: 0, name: NVIDIA GeForce RTX 3050 OEM, pci bus id: 0000:01:00.0, compute capability: 8.6\n"
     ]
    },
    {
     "data": {
      "text/html": [
       "<div>\n",
       "<style scoped>\n",
       "    .dataframe tbody tr th:only-of-type {\n",
       "        vertical-align: middle;\n",
       "    }\n",
       "\n",
       "    .dataframe tbody tr th {\n",
       "        vertical-align: top;\n",
       "    }\n",
       "\n",
       "    .dataframe thead th {\n",
       "        text-align: right;\n",
       "    }\n",
       "</style>\n",
       "<table border=\"1\" class=\"dataframe\">\n",
       "  <thead>\n",
       "    <tr style=\"text-align: right;\">\n",
       "      <th></th>\n",
       "      <th>mean</th>\n",
       "      <th>sd</th>\n",
       "      <th>hdi_5.5%</th>\n",
       "      <th>hdi_94.5%</th>\n",
       "    </tr>\n",
       "  </thead>\n",
       "  <tbody>\n",
       "    <tr>\n",
       "      <th>beta[0]</th>\n",
       "      <td>-1.23</td>\n",
       "      <td>0.31</td>\n",
       "      <td>-1.73</td>\n",
       "      <td>-0.73</td>\n",
       "    </tr>\n",
       "    <tr>\n",
       "      <th>alpha[0]</th>\n",
       "      <td>0.36</td>\n",
       "      <td>0.15</td>\n",
       "      <td>0.13</td>\n",
       "      <td>0.59</td>\n",
       "    </tr>\n",
       "  </tbody>\n",
       "</table>\n",
       "</div>"
      ],
      "text/plain": [
       "          mean    sd  hdi_5.5%  hdi_94.5%\n",
       "beta[0]  -1.23  0.31     -1.73      -0.73\n",
       "alpha[0]  0.36  0.15      0.13       0.59"
      ]
     },
     "execution_count": 1,
     "metadata": {},
     "output_type": "execute_result"
    }
   ],
   "source": [
    "from main import*\n",
    "num_days = 30\n",
    "y = tfd.Poisson(rate=1.5).sample((num_days,))\n",
    "num_weeks = 4\n",
    "y_new = tfd.Poisson(rate=0.5 * 7).sample((num_weeks,))\n",
    "y_all = np.concatenate([y, y_new])\n",
    "exposure = np.concatenate([np.repeat(1, 30), np.repeat(7, 4)])\n",
    "monastery = np.concatenate([np.repeat(0, 30), np.repeat(1, 4)])\n",
    "d = pd.DataFrame.from_dict(dict(y=y_all, days=exposure, monastery=monastery))\n",
    "d[\"log_days\"] = d.days.pipe(np.log)\n",
    "# Select columns with 'float64' dtype  \n",
    "float64_cols = list(d.select_dtypes(include='float64'))\n",
    "\n",
    "# The same code again calling the columns\n",
    "d[float64_cols] = d[float64_cols].astype('float32')\n",
    "\n",
    "\n",
    "formula = dict(main = 'y ~ Poisson(log_rate = lambda)',\n",
    "               likelihood = 'lambda ~ log_days + alpha +  beta * monastery',\n",
    "               prior1 = 'alpha ~ Normal(0,1)',\n",
    "               prior2 = 'beta ~ Normal(0,1)')\n",
    "m11_12 = model(formula, d, float=32)\n",
    "m11_12.fit(observed_data = dict(y =d.y.astype('float32').values),\n",
    "                                           num_results = 2000, num_burnin_steps=500, num_adaptation_steps=400, num_chains=4)\n",
    "m11_12.summary()\n",
    "# Expected\n",
    "#   mean    sd      5.5%    94.5%\n",
    "#a  0.37    0.15     0.13    0.61\n",
    "#b -1.13    0.30    -1.61   -0.65"
   ]
  },
  {
   "cell_type": "markdown",
   "metadata": {},
   "source": [
    "# <a id='toc16_'></a>[Multinomial](#toc0_)"
   ]
  },
  {
   "cell_type": "markdown",
   "metadata": {},
   "source": [
    "## <a id='toc16_1_'></a>[Categorical models](#toc0_)"
   ]
  },
  {
   "cell_type": "code",
   "execution_count": 10,
   "metadata": {},
   "outputs": [
    {
     "data": {
      "text/html": [
       "<div>\n",
       "<style scoped>\n",
       "    .dataframe tbody tr th:only-of-type {\n",
       "        vertical-align: middle;\n",
       "    }\n",
       "\n",
       "    .dataframe tbody tr th {\n",
       "        vertical-align: top;\n",
       "    }\n",
       "\n",
       "    .dataframe thead th {\n",
       "        text-align: right;\n",
       "    }\n",
       "</style>\n",
       "<table border=\"1\" class=\"dataframe\">\n",
       "  <thead>\n",
       "    <tr style=\"text-align: right;\">\n",
       "      <th></th>\n",
       "      <th>career</th>\n",
       "      <th>income</th>\n",
       "    </tr>\n",
       "  </thead>\n",
       "  <tbody>\n",
       "    <tr>\n",
       "      <th>0</th>\n",
       "      <td>2</td>\n",
       "      <td>5</td>\n",
       "    </tr>\n",
       "    <tr>\n",
       "      <th>1</th>\n",
       "      <td>1</td>\n",
       "      <td>2</td>\n",
       "    </tr>\n",
       "    <tr>\n",
       "      <th>2</th>\n",
       "      <td>2</td>\n",
       "      <td>5</td>\n",
       "    </tr>\n",
       "    <tr>\n",
       "      <th>3</th>\n",
       "      <td>2</td>\n",
       "      <td>5</td>\n",
       "    </tr>\n",
       "    <tr>\n",
       "      <th>4</th>\n",
       "      <td>2</td>\n",
       "      <td>5</td>\n",
       "    </tr>\n",
       "    <tr>\n",
       "      <th>...</th>\n",
       "      <td>...</td>\n",
       "      <td>...</td>\n",
       "    </tr>\n",
       "    <tr>\n",
       "      <th>495</th>\n",
       "      <td>2</td>\n",
       "      <td>5</td>\n",
       "    </tr>\n",
       "    <tr>\n",
       "      <th>496</th>\n",
       "      <td>1</td>\n",
       "      <td>2</td>\n",
       "    </tr>\n",
       "    <tr>\n",
       "      <th>497</th>\n",
       "      <td>2</td>\n",
       "      <td>5</td>\n",
       "    </tr>\n",
       "    <tr>\n",
       "      <th>498</th>\n",
       "      <td>2</td>\n",
       "      <td>5</td>\n",
       "    </tr>\n",
       "    <tr>\n",
       "      <th>499</th>\n",
       "      <td>2</td>\n",
       "      <td>5</td>\n",
       "    </tr>\n",
       "  </tbody>\n",
       "</table>\n",
       "<p>500 rows × 2 columns</p>\n",
       "</div>"
      ],
      "text/plain": [
       "     career  income\n",
       "0         2       5\n",
       "1         1       2\n",
       "2         2       5\n",
       "3         2       5\n",
       "4         2       5\n",
       "..      ...     ...\n",
       "495       2       5\n",
       "496       1       2\n",
       "497       2       5\n",
       "498       2       5\n",
       "499       2       5\n",
       "\n",
       "[500 rows x 2 columns]"
      ]
     },
     "execution_count": 10,
     "metadata": {},
     "output_type": "execute_result"
    }
   ],
   "source": [
    "from main import*\n",
    "# simulate career choices among 500 individuals\n",
    "N = 500  # number of individuals\n",
    "income = np.array([1, 2, 5])  # expected income of each career\n",
    "score = 0.5 * income  # scores for each career, based on income\n",
    "\n",
    "# next line converts scores to probabilities\n",
    "p = tf.nn.softmax(score)\n",
    "\n",
    "# now simulate choice\n",
    "# outcome career holds event type values, not counts\n",
    "career = np.repeat(np.nan, N)  # empty vector of choices for each individual\n",
    "\n",
    "# sample chosen career for each individual\n",
    "for i in range(N):\n",
    "    career[i] = tfd.Categorical(probs=p).sample()\n",
    "\n",
    "career = career.astype(int)\n",
    "result = [income[index] for index in career]\n",
    "data = {'career': career, 'income': result}\n",
    "df = pd.DataFrame(data)\n",
    "df"
   ]
  },
  {
   "cell_type": "markdown",
   "metadata": {},
   "source": [
    "How to programatically determine this model?"
   ]
  },
  {
   "cell_type": "code",
   "execution_count": 28,
   "metadata": {},
   "outputs": [],
   "source": [
    "def test(N, K = 3, formula = 'alpha + beta*income'):\n",
    "    def _generator():\n",
    "        alpha = yield tfd.Sample(tfd.Normal(0,1), sample_shape = (K - 1))\n",
    "        beta = yield tfd.Sample(tfd.Normal(0,1), sample_shape = 1)\n",
    "        Class1 =  tf.gather(alpha, [0], axis=-1) + beta * income[0]\n",
    "        Class2 =  tf.gather(alpha, [1], axis=-1) + beta *income[1]\n",
    "        Class3 = tf.zeros_like(Class1)  # pivot\n",
    "        stack = tf.stack([Class1, Class2, Class3], axis=1)\n",
    "        p =  tf.nn.softmax(stack)\n",
    "        career =  yield tfd.Independent(tfd.Categorical(probs = p), reinterpreted_batch_ndims=1)\n",
    "    return tfd.JointDistributionCoroutine(_generator, validate_args=True)"
   ]
  },
  {
   "cell_type": "markdown",
   "metadata": {},
   "source": [
    "## Multinomial in disguise as Binomial"
   ]
  },
  {
   "cell_type": "code",
   "execution_count": 1,
   "metadata": {},
   "outputs": [
    {
     "name": "stderr",
     "output_type": "stream",
     "text": [
      "2024-02-09 13:15:26.978171: I tensorflow/core/util/port.cc:113] oneDNN custom operations are on. You may see slightly different numerical results due to floating-point round-off errors from different computation orders. To turn them off, set the environment variable `TF_ENABLE_ONEDNN_OPTS=0`.\n",
      "2024-02-09 13:15:26.998505: E external/local_xla/xla/stream_executor/cuda/cuda_dnn.cc:9261] Unable to register cuDNN factory: Attempting to register factory for plugin cuDNN when one has already been registered\n",
      "2024-02-09 13:15:26.998526: E external/local_xla/xla/stream_executor/cuda/cuda_fft.cc:607] Unable to register cuFFT factory: Attempting to register factory for plugin cuFFT when one has already been registered\n",
      "2024-02-09 13:15:26.999035: E external/local_xla/xla/stream_executor/cuda/cuda_blas.cc:1515] Unable to register cuBLAS factory: Attempting to register factory for plugin cuBLAS when one has already been registered\n",
      "2024-02-09 13:15:27.003330: I tensorflow/core/platform/cpu_feature_guard.cc:182] This TensorFlow binary is optimized to use available CPU instructions in performance-critical operations.\n",
      "To enable the following instructions: AVX2 AVX_VNNI FMA, in other operations, rebuild TensorFlow with the appropriate compiler flags.\n",
      "2024-02-09 13:15:27.419776: W tensorflow/compiler/tf2tensorrt/utils/py_utils.cc:38] TF-TRT Warning: Could not find TensorRT\n"
     ]
    },
    {
     "name": "stdout",
     "output_type": "stream",
     "text": [
      "WARNING:tensorflow:From /home/sosa/BI/code/helpers.py:76: calling function (from tensorflow.python.eager.polymorphic_function.polymorphic_function) with experimental_compile is deprecated and will be removed in a future version.\n",
      "Instructions for updating:\n",
      "experimental_compile is deprecated, use jit_compile instead\n"
     ]
    },
    {
     "name": "stderr",
     "output_type": "stream",
     "text": [
      "2024-02-09 13:15:28.485028: I external/local_xla/xla/stream_executor/cuda/cuda_executor.cc:887] could not open file to read NUMA node: /sys/bus/pci/devices/0000:01:00.0/numa_node\n",
      "Your kernel may have been built without NUMA support.\n",
      "2024-02-09 13:15:28.507226: I external/local_xla/xla/stream_executor/cuda/cuda_executor.cc:887] could not open file to read NUMA node: /sys/bus/pci/devices/0000:01:00.0/numa_node\n",
      "Your kernel may have been built without NUMA support.\n",
      "2024-02-09 13:15:28.507261: I external/local_xla/xla/stream_executor/cuda/cuda_executor.cc:887] could not open file to read NUMA node: /sys/bus/pci/devices/0000:01:00.0/numa_node\n",
      "Your kernel may have been built without NUMA support.\n",
      "2024-02-09 13:15:28.509858: I external/local_xla/xla/stream_executor/cuda/cuda_executor.cc:887] could not open file to read NUMA node: /sys/bus/pci/devices/0000:01:00.0/numa_node\n",
      "Your kernel may have been built without NUMA support.\n",
      "2024-02-09 13:15:28.509891: I external/local_xla/xla/stream_executor/cuda/cuda_executor.cc:887] could not open file to read NUMA node: /sys/bus/pci/devices/0000:01:00.0/numa_node\n",
      "Your kernel may have been built without NUMA support.\n",
      "2024-02-09 13:15:28.509906: I external/local_xla/xla/stream_executor/cuda/cuda_executor.cc:887] could not open file to read NUMA node: /sys/bus/pci/devices/0000:01:00.0/numa_node\n",
      "Your kernel may have been built without NUMA support.\n",
      "2024-02-09 13:15:28.657460: I external/local_xla/xla/stream_executor/cuda/cuda_executor.cc:887] could not open file to read NUMA node: /sys/bus/pci/devices/0000:01:00.0/numa_node\n",
      "Your kernel may have been built without NUMA support.\n",
      "2024-02-09 13:15:28.657497: I external/local_xla/xla/stream_executor/cuda/cuda_executor.cc:887] could not open file to read NUMA node: /sys/bus/pci/devices/0000:01:00.0/numa_node\n",
      "Your kernel may have been built without NUMA support.\n",
      "2024-02-09 13:15:28.657501: I tensorflow/core/common_runtime/gpu/gpu_device.cc:2022] Could not identify NUMA node of platform GPU id 0, defaulting to 0.  Your kernel may not have been built with NUMA support.\n",
      "2024-02-09 13:15:28.657521: I external/local_xla/xla/stream_executor/cuda/cuda_executor.cc:887] could not open file to read NUMA node: /sys/bus/pci/devices/0000:01:00.0/numa_node\n",
      "Your kernel may have been built without NUMA support.\n",
      "2024-02-09 13:15:28.657542: I tensorflow/core/common_runtime/gpu/gpu_device.cc:1929] Created device /job:localhost/replica:0/task:0/device:GPU:0 with 5679 MB memory:  -> device: 0, name: NVIDIA GeForce RTX 3050 OEM, pci bus id: 0000:01:00.0, compute capability: 8.6\n",
      "/home/sosa/.local/lib/python3.10/site-packages/tensorflow_probability/python/__init__.py:70: UserWarning: TensorFloat-32 matmul/conv are enabled for NVIDIA Ampere+ GPUs. The resulting loss of precision may hinder MCMC convergence. To turn off, run `tf.config.experimental.enable_tensor_float_32_execution(False)`. For more detail, see https://github.com/tensorflow/community/pull/287.\n",
      "  warnings.warn(\n",
      "2024-02-09 13:15:35.902183: I external/local_xla/xla/stream_executor/cuda/cuda_executor.cc:887] could not open file to read NUMA node: /sys/bus/pci/devices/0000:01:00.0/numa_node\n",
      "Your kernel may have been built without NUMA support.\n",
      "2024-02-09 13:15:35.902239: I external/local_xla/xla/stream_executor/cuda/cuda_executor.cc:887] could not open file to read NUMA node: /sys/bus/pci/devices/0000:01:00.0/numa_node\n",
      "Your kernel may have been built without NUMA support.\n",
      "2024-02-09 13:15:35.902252: I external/local_xla/xla/stream_executor/cuda/cuda_executor.cc:887] could not open file to read NUMA node: /sys/bus/pci/devices/0000:01:00.0/numa_node\n",
      "Your kernel may have been built without NUMA support.\n",
      "2024-02-09 13:15:35.902365: I external/local_xla/xla/stream_executor/cuda/cuda_executor.cc:887] could not open file to read NUMA node: /sys/bus/pci/devices/0000:01:00.0/numa_node\n",
      "Your kernel may have been built without NUMA support.\n",
      "2024-02-09 13:15:35.902370: I tensorflow/core/common_runtime/gpu/gpu_device.cc:2022] Could not identify NUMA node of platform GPU id 0, defaulting to 0.  Your kernel may not have been built with NUMA support.\n",
      "2024-02-09 13:15:35.902383: I external/local_xla/xla/stream_executor/cuda/cuda_executor.cc:887] could not open file to read NUMA node: /sys/bus/pci/devices/0000:01:00.0/numa_node\n",
      "Your kernel may have been built without NUMA support.\n",
      "2024-02-09 13:15:35.902392: I tensorflow/core/common_runtime/gpu/gpu_device.cc:1929] Created device /device:GPU:0 with 5679 MB memory:  -> device: 0, name: NVIDIA GeForce RTX 3050 OEM, pci bus id: 0000:01:00.0, compute capability: 8.6\n"
     ]
    },
    {
     "data": {
      "text/html": [
       "<div>\n",
       "<style scoped>\n",
       "    .dataframe tbody tr th:only-of-type {\n",
       "        vertical-align: middle;\n",
       "    }\n",
       "\n",
       "    .dataframe tbody tr th {\n",
       "        vertical-align: top;\n",
       "    }\n",
       "\n",
       "    .dataframe thead th {\n",
       "        text-align: right;\n",
       "    }\n",
       "</style>\n",
       "<table border=\"1\" class=\"dataframe\">\n",
       "  <thead>\n",
       "    <tr style=\"text-align: right;\">\n",
       "      <th></th>\n",
       "      <th>mean</th>\n",
       "      <th>sd</th>\n",
       "      <th>hdi_5.5%</th>\n",
       "      <th>hdi_94.5%</th>\n",
       "    </tr>\n",
       "  </thead>\n",
       "  <tbody>\n",
       "    <tr>\n",
       "      <th>alpha[0]</th>\n",
       "      <td>-0.46</td>\n",
       "      <td>0.03</td>\n",
       "      <td>-0.51</td>\n",
       "      <td>-0.41</td>\n",
       "    </tr>\n",
       "  </tbody>\n",
       "</table>\n",
       "</div>"
      ],
      "text/plain": [
       "          mean    sd  hdi_5.5%  hdi_94.5%\n",
       "alpha[0] -0.46  0.03     -0.51      -0.41"
      ]
     },
     "execution_count": 1,
     "metadata": {},
     "output_type": "execute_result"
    }
   ],
   "source": [
    "from main import*\n",
    "d = pd.read_csv('./data/UCBadmit.csv', sep = ';')\n",
    "\n",
    "formula = dict(main = \"y ~ Binomial(applications, logits = lambda)\",\n",
    "               likelihood = 'lambda ~ alpha',\n",
    "               prior1 = 'alpha ~ Normal(0.,1.5)')\n",
    "m11_14 = model(formula, d, float=32)\n",
    "\n",
    "m11_14.fit(observed_data = dict(y =d.admit.astype('float32').values),\n",
    "                                           num_results = 2000, num_burnin_steps=500, num_adaptation_steps=400, num_chains=4)\n",
    "m11_14.summary()"
   ]
  },
  {
   "cell_type": "code",
   "execution_count": 4,
   "metadata": {},
   "outputs": [
    {
     "data": {
      "text/plain": [
       "0.38772363780375135"
      ]
     },
     "execution_count": 4,
     "metadata": {},
     "output_type": "execute_result"
    }
   ],
   "source": [
    "m11_14.invt_logit(np.mean(m11_14.posterior['alpha']))"
   ]
  },
  {
   "cell_type": "markdown",
   "metadata": {},
   "source": [
    "## <a id='toc16_2_'></a>[Multinomial in disguise as Poisson](#toc0_)"
   ]
  },
  {
   "cell_type": "markdown",
   "metadata": {},
   "source": [
    "We can run N independent poisson models (one for each class) and compute there probability using the posteriors fo each models"
   ]
  },
  {
   "cell_type": "code",
   "execution_count": 2,
   "metadata": {},
   "outputs": [
    {
     "name": "stderr",
     "output_type": "stream",
     "text": [
      "2024-02-09 11:40:46.387993: I external/local_xla/xla/stream_executor/cuda/cuda_executor.cc:887] could not open file to read NUMA node: /sys/bus/pci/devices/0000:01:00.0/numa_node\n",
      "Your kernel may have been built without NUMA support.\n",
      "2024-02-09 11:40:46.388045: I external/local_xla/xla/stream_executor/cuda/cuda_executor.cc:887] could not open file to read NUMA node: /sys/bus/pci/devices/0000:01:00.0/numa_node\n",
      "Your kernel may have been built without NUMA support.\n",
      "2024-02-09 11:40:46.388058: I external/local_xla/xla/stream_executor/cuda/cuda_executor.cc:887] could not open file to read NUMA node: /sys/bus/pci/devices/0000:01:00.0/numa_node\n",
      "Your kernel may have been built without NUMA support.\n",
      "2024-02-09 11:40:46.388234: I external/local_xla/xla/stream_executor/cuda/cuda_executor.cc:887] could not open file to read NUMA node: /sys/bus/pci/devices/0000:01:00.0/numa_node\n",
      "Your kernel may have been built without NUMA support.\n",
      "2024-02-09 11:40:46.388246: I tensorflow/core/common_runtime/gpu/gpu_device.cc:2022] Could not identify NUMA node of platform GPU id 0, defaulting to 0.  Your kernel may not have been built with NUMA support.\n",
      "2024-02-09 11:40:46.388269: I external/local_xla/xla/stream_executor/cuda/cuda_executor.cc:887] could not open file to read NUMA node: /sys/bus/pci/devices/0000:01:00.0/numa_node\n",
      "Your kernel may have been built without NUMA support.\n",
      "2024-02-09 11:40:46.388282: I tensorflow/core/common_runtime/gpu/gpu_device.cc:1929] Created device /device:GPU:0 with 5366 MB memory:  -> device: 0, name: NVIDIA GeForce RTX 3050 OEM, pci bus id: 0000:01:00.0, compute capability: 8.6\n"
     ]
    },
    {
     "data": {
      "text/html": [
       "<div>\n",
       "<style scoped>\n",
       "    .dataframe tbody tr th:only-of-type {\n",
       "        vertical-align: middle;\n",
       "    }\n",
       "\n",
       "    .dataframe tbody tr th {\n",
       "        vertical-align: top;\n",
       "    }\n",
       "\n",
       "    .dataframe thead th {\n",
       "        text-align: right;\n",
       "    }\n",
       "</style>\n",
       "<table border=\"1\" class=\"dataframe\">\n",
       "  <thead>\n",
       "    <tr style=\"text-align: right;\">\n",
       "      <th></th>\n",
       "      <th>mean</th>\n",
       "      <th>sd</th>\n",
       "      <th>hdi_5.5%</th>\n",
       "      <th>hdi_94.5%</th>\n",
       "    </tr>\n",
       "  </thead>\n",
       "  <tbody>\n",
       "    <tr>\n",
       "      <th>alpha[0]</th>\n",
       "      <td>4.98</td>\n",
       "      <td>0.02</td>\n",
       "      <td>4.95</td>\n",
       "      <td>5.02</td>\n",
       "    </tr>\n",
       "  </tbody>\n",
       "</table>\n",
       "</div>"
      ],
      "text/plain": [
       "          mean    sd  hdi_5.5%  hdi_94.5%\n",
       "alpha[0]  4.98  0.02      4.95       5.02"
      ]
     },
     "execution_count": 2,
     "metadata": {},
     "output_type": "execute_result"
    }
   ],
   "source": [
    "from main import*\n",
    "d = pd.read_csv('./data/UCBadmit.csv', sep = ';')\n",
    "formula = dict(main = 'y ~ Poisson(log_rate=lambda1)',\n",
    "               likelihood = 'lambda1 ~ alpha',\n",
    "               prior1 = 'alpha ~ Normal(0.,1.5)'\n",
    "               )\n",
    "m11_14 = model(formula, d)\n",
    "m11_14.fit(observed_data = dict(y =d.admit.astype('float32').values),\n",
    "                                           num_results = 2000, num_burnin_steps=500, num_adaptation_steps=400, num_chains=4)\n",
    "formula = dict(main = 'y ~ Poisson(log_rate=lambda1)',\n",
    "               likelihood = 'lambda1 ~ alpha',\n",
    "               prior1 = 'alpha ~ Normal(0.,1.5)'\n",
    "               )\n",
    "m11_14_2 = model(formula, d)\n",
    "m11_14_2.fit(observed_data = dict(y =d.reject.astype('float32').values),\n",
    "                                           num_results = 2000, num_burnin_steps=500, num_adaptation_steps=400, num_chains=4)"
   ]
  },
  {
   "cell_type": "code",
   "execution_count": 10,
   "metadata": {},
   "outputs": [
    {
     "data": {
      "text/plain": [
       "<tf.Tensor: shape=(1,), dtype=float32, numpy=array([0.38843098], dtype=float32)>"
      ]
     },
     "execution_count": 10,
     "metadata": {},
     "output_type": "execute_result"
    }
   ],
   "source": [
    "a1 = tf.reduce_mean(m11_14.posterior[\"alpha\"][0], 0)\n",
    "a2 = tf.reduce_mean(m11_14_2.posterior[\"alpha\"][0], 0)\n",
    "tf.exp(a1) / (tf.exp(a1) + tf.exp(a2))"
   ]
  },
  {
   "cell_type": "markdown",
   "metadata": {},
   "source": [
    "# Beta binomial"
   ]
  },
  {
   "cell_type": "code",
   "execution_count": 13,
   "metadata": {},
   "outputs": [
    {
     "data": {
      "text/plain": [
       "{'undeclared_params': ['theta', 'pbar'], 'params_in_data': ['gid']}"
      ]
     },
     "execution_count": 13,
     "metadata": {},
     "output_type": "execute_result"
    }
   ],
   "source": [
    "from main import*\n",
    "d = pd.read_csv('./data/UCBadmit.csv', sep = ';')\n",
    "d[\"gid\"] = (d[\"applicant.gender\"] != \"male\").astype(int)\n",
    "len(d.applications)\n",
    "formula = dict(main = 'y ~ BetaBinomial(12, concentration1 = pbar, concentration0 = theta)',\n",
    "               likelihood = 'pbar ~ a[gid]',\n",
    "               likelihood2 = 'theta ~ phi + 2.0',\n",
    "               prior1 = 'a ~ Normal(0.,1.5)',\n",
    "               prior2 = 'phi ~ Exponential(1)'\n",
    "               )\n",
    "m12_1 = model()\n",
    "m12_1.f = formula\n",
    "m12_1.df = d\n",
    "self = m12_1\n",
    "self.get_var()\n",
    "self.get_priors_names()\n",
    "self.get_model_type()\n",
    "self.get_undeclared_params()"
   ]
  },
  {
   "cell_type": "markdown",
   "metadata": {},
   "source": [
    "# Working on multiple likelihoods\n",
    "## Model informations"
   ]
  },
  {
   "cell_type": "code",
   "execution_count": 43,
   "metadata": {},
   "outputs": [
    {
     "data": {
      "text/plain": [
       "{'main': {'output': 'y',\n",
       "  'input': 'y ~ BetaBinomial(12, concentration1 = pbar, concentration0 = theta)',\n",
       "  'distribution': 'BetaBinomial',\n",
       "  'params': {'args': ['tf.cast(12.0, dtype = tf.float32)'],\n",
       "   'kwargs': {'concentration1': 'a[df.gid.values]',\n",
       "    'concentration0': 'phi+2.0'}},\n",
       "  'priors': ['a', 'phi'],\n",
       "  'with_likelihood': True,\n",
       "  'multiple_likelihoods': True,\n",
       "  'with_indices': True,\n",
       "  'params_in_df': ['gid'],\n",
       "  'params_not_in_df': ['a', ['phi', '2.0']],\n",
       "  'likelihood(s)': {'likelihood': {'main_params': {'args': [],\n",
       "     'kwargs': {'concentration1': 'a[gid]'}},\n",
       "    'formula': 'pbar ~ a[gid]',\n",
       "    'output': 'pbar',\n",
       "    'params': ['a', 'gid'],\n",
       "    'with_indices': True,\n",
       "    'indices_position': [0],\n",
       "    'indices_patterns': {'a': 'gid'},\n",
       "    'indices_prior': ['a'],\n",
       "    'indices_var': ['gid'],\n",
       "    'params_in_df': ['gid'],\n",
       "    'params_not_in_df': ['a', ['phi', '2.0']]},\n",
       "   'likelihood2': {'main_params': {'args': [],\n",
       "     'kwargs': {'concentration0': 'phi+2.0'}},\n",
       "    'formula': 'theta ~ phi + 2.0',\n",
       "    'output': 'theta',\n",
       "    'params': ['phi', '2.0'],\n",
       "    'params_in_df': [],\n",
       "    'params_not_in_df': ['phi', '2.0']}}}}"
      ]
     },
     "execution_count": 43,
     "metadata": {},
     "output_type": "execute_result"
    }
   ],
   "source": [
    "def get_main_dict():\n",
    "    dict = {'output': None, \n",
    "            'input': None,\n",
    "            'distribution': None, \n",
    "            'params' : None,\n",
    "            'priors' : None,\n",
    "            'with_likelihood': None,\n",
    "            'multiple_likelihoods': None,\n",
    "            'with_indices' : False,\n",
    "            'params_in_df': None,\n",
    "            'params_not_in_df': None,\n",
    "            'likelihood(s)': {}\n",
    "            } \n",
    "            \n",
    "    return dict\n",
    "\n",
    "def unlist(L):\n",
    "    newList = []\n",
    "    for item in L:\n",
    "        if isinstance(item, list):\n",
    "            for i in item:\n",
    "                newList.append(i)\n",
    "        else:\n",
    "            newList.append(item)\n",
    "    return newList\n",
    "\n",
    "def get_likelihood_dict():\n",
    "    LK_dict = {}\n",
    "    self.LK_dict = LK_dict\n",
    "    return LK_dict\n",
    "\n",
    "def remove_numeric_priors(characters):\n",
    "     return [char for char in characters if not is_float(char)]\n",
    "\n",
    "def is_float(char):\n",
    "    try:\n",
    "        float(char)\n",
    "        return True\n",
    "    except ValueError:\n",
    "        return False\n",
    "    \n",
    "def get_main_info_likelihood_indices(dict):\n",
    "    dict['with_indices'] = True\n",
    "    dict['indices_position'] = self.find_index_position(dict['formula'])  \n",
    "    dict['indices_patterns'] = self.extract_indices_patterns(dict['formula'])  \n",
    "    dict['indices_prior'] = [dict['params'][i] for i in dict['indices_position']]\n",
    "    dict['indices_var'] = [dict['params'][i+1] for i in dict['indices_position']]\n",
    "    return dict\n",
    "\n",
    "def get_main_info_with_likelihood(dict, LK_dict):         \n",
    "        if len(dict['params']['args']) > 0:\n",
    "            LK_dict = get_main_info_likelihood_args(dict, LK_dict)\n",
    "        if len(dict['params']['kwargs']) > 0:\n",
    "            LK_dict = get_main_info_likelihood_kwargs(dict, LK_dict)        \n",
    "        return  LK_dict\n",
    "\n",
    "def get_main_info_likelihood_kwargs(main_dict, LK_dict):\n",
    "    for key in main_dict['params']['kwargs']:\n",
    "        if main_dict['params']['kwargs'][key] in self.model_names.values():               \n",
    "            #check if self.model_names.values() name have likelihood in it\n",
    "            key_name = self.which_key_have_value(self.model_names, main_dict['params']['kwargs'][key])\n",
    "            if 'prior' in key_name:\n",
    "                main_dict['priors'] = self.add_entry_if_not_none(main_dict['priors'], self.model_names[key_name])\n",
    "\n",
    "            if 'likelihood' in key_name: # Get basic information of likelihood\n",
    "                name = [k for k, v in self.model_names.items() if v == main_dict['params']['kwargs'][key]] \n",
    "                name = name[0]\n",
    "                LK_dict[name] = {}   \n",
    "                LK_dict[name]['main_params']= {'args':[], \"kwargs\":{}} \n",
    "                LK_dict[name]['formula'] = self.full_model[name]['input']\n",
    "                LK_dict[name]['output'] = self.full_model[name]['var'][0]\n",
    "                LK_dict[name]['params'] = self.full_model[name]['var'][1].copy() \n",
    "                x = re.split(r'[~]',LK_dict[name]['formula'])[1]\n",
    "                x = x.replace(\" \", \"\")\n",
    "                LK_dict[name]['main_params']['kwargs'][key] = str(x)\n",
    "\n",
    "                # Add information to main to build LK within lambda\n",
    "                main_dict['params']['kwargs'][key] = LK_dict[name]['main_params']['kwargs'][key]\n",
    "                main_dict['priors'] = self.add_entry_if_not_none(main_dict['priors'], LK_dict[name]['params'].copy())\n",
    "\n",
    "                if \"[\" in LK_dict[name]['formula']: \n",
    "                    main_dict['with_indices']   = True  \n",
    "                    LK_dict[name] = get_main_info_likelihood_indices(LK_dict[name])\n",
    "\n",
    "                if len(self.undeclared_params) > 1:\n",
    "                    LK_dict[name]['params_in_df'] = [x for x in  LK_dict[name]['params'] if x in self.undeclared_params['params_in_data']]                          \n",
    "                    LK_dict[name]['params_not_in_df'] = [x for x in  LK_dict[name]['params']  if x not in self.undeclared_params['params_in_data']]\n",
    "                   \n",
    "                    if len(LK_dict[name]['params_in_df']) > 0:\n",
    "                        main_dict['params_in_df'] = self.add_entry_if_not_none(main_dict['params_in_df'], LK_dict[name]['params_in_df'])\n",
    "                    main_dict['params_not_in_df'] = self.add_entry_if_not_none(main_dict['params_not_in_df'], LK_dict[name]['params_not_in_df'])\n",
    "                \n",
    "                else:\n",
    "                    LK_dict[name]['params_in_df'] = False\n",
    "                    main_dict['params_in_df'] = {}\n",
    "                    main_dict['params_in_df'] = False\n",
    "\n",
    "    #main_dict['likelihood(s)'].update(LK_dict)\n",
    "    return LK_dict\n",
    "\n",
    "def get_main_info_likelihood_args(main_dict, LK_dict):\n",
    "    # Find likelihood associated to this main\n",
    "    for a in range(len(main_dict['params']['args'])):\n",
    "        if main_dict['params']['args'][a] in self.model_names.values():\n",
    "            #check if self.model_names.values() name have likelihhod in it\n",
    "            key_name = self.which_key_have_value(self.model_names, main_dict['params']['args'][a])\n",
    "            if 'prior' in key_name:\n",
    "                main_dict['priors'] = self.add_entry_if_not_none(main_dict['priors'], self.model_names[key_name])\n",
    "                \n",
    "            if 'likelihood' in key_name:    \n",
    "                name = key_name\n",
    "                LK_dict[name] = {}\n",
    "                LK_dict[name]['main_params'] =  main_dict['params'].copy() # get corresponding main prior\n",
    "                LK_dict[name]['formula'] = self.full_model[name]['input']\n",
    "                LK_dict[name]['output'] = main_dict['params']['args'][a]\n",
    "                LK_dict[name]['params'] = self.full_model[name]['var'][1] \n",
    "                x = re.split(r'[~]',LK_dict[name]['formula'])[1]\n",
    "                x = x.replace(\" \", \"\")\n",
    "                LK_dict[name]['main_params']['args'][a] = x\n",
    "                # Add information to main to build LK within lambda\n",
    "                main_dict['params']['args'][a] = LK_dict[name]['main_params']['args'][a].copy()\n",
    "                main_dict['priors'] = self.add_entry_if_not_none(main_dict['priors'], LK_dict[name]['params'])\n",
    "\n",
    "                # Index in formula\n",
    "                if \"[\" in main_dict['formula']:   \n",
    "                    main_dict['with_indices']   = True             \n",
    "                    LK_dict[name] = get_main_info_likelihood_indices(LK_dict[name])\n",
    "                    \n",
    "                if  len(self.undeclared_params) > 1:\n",
    "                    LK_dict[name]['params_in_df'] = [x for x in  LK_dict[name]['params'] if x in self.undeclared_params['params_in_data']]                          \n",
    "                    LK_dict[name]['params_not_in_df'] = [x for x in  LK_dict[name]['params']  if x not in self.undeclared_params['params_in_data']]\n",
    "                    \n",
    "                    if len(LK_dict[name]['params_in_df']) > 0:\n",
    "                        main_dict['params_in_df'] = self.add_entry_if_not_none(main_dict['params_in_df'], LK_dict[name]['params_in_df'])\n",
    "                    main_dict['params_not_in_df'] = self.add_entry_if_not_none(main_dict['params_not_in_df'], LK_dict[name]['params_not_in_df'])\n",
    "                else:\n",
    "                    LK_dict[name]['params_in_df'] = False\n",
    "                    \n",
    "        if len(self.undeclared_params) > 1:# POurquoi n'est pas présent dans kwargs?\n",
    "            if main_dict['params']['args'][a] in self.undeclared_params['params_in_data']:\n",
    "                main_dict['params']['args'][a] = \"df.\"+ main_dict['params']['args'][a] + \"\"\".astype('float\"\"\" + str(self.float) + \"\"\"').values\"\"\"\n",
    "    \n",
    "    #main_dict['likelihood(s)'].update(LK_dict)\n",
    "\n",
    "    return LK_dict\n",
    "    \n",
    "def get_main_info_likelihood_arguments_in_df2(dict):\n",
    "    if len(dict['params']['args']) > 0:\n",
    "        for a in range(len(dict['params_in_df'])):\n",
    "            for b in range(len(dict['params']['args'])):\n",
    "                if dict['params_in_df'][a] in dict['params']['args'][b]:\n",
    "                     dict['params']['args'][b] = dict['params']['args'][b].replace(dict['params_in_df'][a], \n",
    "                                                                                  'df.' + dict['params_in_df'][a] + '.values')\n",
    "                    #dict['params']['args'][b] = dict['params']['args'][b].replace(dict['likelihood_params_in_df'][a], \n",
    "                    #                                                              ' tf.cast(df.' + dict['likelihood_params_in_df'][a] + ',dtype=tf.float' + str(self.float)+ ')')\n",
    "    if len(dict['params']['kwargs']) > 0:\n",
    "        for a in range(len(dict['params_in_df'])):\n",
    "            for key in dict['params']['kwargs'].keys():\n",
    "                if dict['params_in_df'][a] in dict['params']['kwargs'][key]:\n",
    "                    dict['params']['kwargs'][key] = dict['params']['kwargs'][key].replace(dict['params_in_df'][a], \n",
    "                                                                                          'df.' + dict['params_in_df'][a] + '.values')\n",
    "                    #dict['params']['kwargs'][key] = dict['params']['kwargs'][key].replace(dict['likelihood_params_in_df'][a], \n",
    "                    #                                                                      ' tf.cast(df.' + dict['likelihood_params_in_df'][a] + ',dtype=tf.float' + str(self.float) + ')')\n",
    "    return dict   \n",
    "    \n",
    "def get_mains_info():    \n",
    "    tmp = self.full_model\n",
    "    mains_infos = {}\n",
    "    p = self.priors\n",
    "    # For each main retrieve informations\n",
    "    for key in tmp.keys():\n",
    "        if 'main' in key.lower():                \n",
    "            main_name = key\n",
    "            infos = tmp[key]['var']\n",
    "            main_dict = get_main_dict()\n",
    "            main_dict['output'] = infos[0]\n",
    "            main_dict['distribution'] = infos[1]\n",
    "            main_dict['params'] = infos[2]\n",
    "            main_dict['params'] = self.separate_args_kwargs(main_dict['params'])\n",
    "            main_dict['input'] = tmp[key]['input']\n",
    "\n",
    "            # likelihood\n",
    "            if self.model_type['with_likelihood']:\n",
    "                main_dict['with_likelihood'] = True\n",
    "                LK_dict = {}\n",
    "                LK_dict = get_main_info_with_likelihood(main_dict, LK_dict)\n",
    "\n",
    "                # Add params in df to LK\n",
    "                if main_dict['params_in_df'] is not None:\n",
    "                    main_dict['params_in_df'] = list(set(main_dict['params_in_df']))\n",
    "                    main_dict = get_main_info_likelihood_arguments_in_df2(main_dict)\n",
    "                main_dict['params']['args'] = self.convert_to_numeric(main_dict['params']['args'])\n",
    "                main_dict['params']['kwargs']= self.convert_to_numeric_dict(main_dict['params']['kwargs'])\n",
    "\n",
    "        if len(LK_dict) > 1 :\n",
    "             main_dict['multiple_likelihoods'] = True\n",
    "        main_dict['priors'] = unlist(main_dict['priors'])\n",
    "        main_dict['priors'] = remove_numeric_priors(main_dict['priors'])\n",
    "        main_dict['priors'] =[char for char in main_dict['priors'] if char not in main_dict['params_in_df']]\n",
    "        main_dict['likelihood(s)'].update(LK_dict)\n",
    "\n",
    "        self.model_type[\"with_indices\"] = main_dict[\"with_indices\"]\n",
    "\n",
    "        mains_infos[main_name] = main_dict\n",
    "    self.mains_infos = mains_infos\n",
    "\n",
    "get_mains_info()\n",
    "self.mains_infos"
   ]
  },
  {
   "cell_type": "code",
   "execution_count": 46,
   "metadata": {},
   "outputs": [
    {
     "data": {
      "text/plain": [
       "{'with_likelihood': True,\n",
       " 'with_indices': True,\n",
       " 'likelihood': {'params': ['a']}}"
      ]
     },
     "execution_count": 46,
     "metadata": {},
     "output_type": "execute_result"
    }
   ],
   "source": [
    " self.model_type"
   ]
  },
  {
   "cell_type": "code",
   "execution_count": 45,
   "metadata": {},
   "outputs": [
    {
     "data": {
      "text/plain": [
       "{'phi': <tf.Tensor: shape=(1,), dtype=float32, numpy=array([0.38111353], dtype=float32)>,\n",
       " 'a': <tf.Tensor: shape=(2,), dtype=float32, numpy=array([ 1.1161822, -0.9973794], dtype=float32)>,\n",
       " 'main': <tf.Tensor: shape=(12,), dtype=float32, numpy=\n",
       " array([ 3., nan,  1., nan,  6., nan,  8., nan,  1., nan,  7., nan],\n",
       "       dtype=float32)>}"
      ]
     },
     "execution_count": 45,
     "metadata": {},
     "output_type": "execute_result"
    }
   ],
   "source": [
    "m = {}\n",
    "m [\"a\"] = tfd.Sample(tfd.Normal(0,1.5), sample_shape = 2)\n",
    "m [\"phi\"] = tfd.Sample(tfd.Exponential(1), sample_shape = 1)\n",
    "m[\"main\"]= lambda a, phi: tfd.Independent(\n",
    "    tfd.BetaBinomial(tf.cast(12.0, dtype = tf.float32),\n",
    "                    concentration1 =  tf.squeeze(\n",
    "                         tf.gather(a,\n",
    "                                   tf.cast(d.gid.values, dtype=tf.int32),\n",
    "                                     axis = -1)),\n",
    "                    concentration0 = phi+2.0,name ='main'), reinterpreted_batch_ndims=1)\n",
    "M = tfd.JointDistributionNamed(m)\n",
    "M.sample()"
   ]
  },
  {
   "cell_type": "markdown",
   "metadata": {},
   "source": [
    "## Writing main text"
   ]
  },
  {
   "cell_type": "code",
   "execution_count": 47,
   "metadata": {},
   "outputs": [],
   "source": [
    "def write_main_text():\n",
    "    result = {}\n",
    "    for key in self.mains_infos.keys():\n",
    "        text = \"\"\n",
    "        text = text +  \"lambda \"\n",
    "        # Params\n",
    "        ## likelihood priors \n",
    "        if self.mains_infos[key]['priors'] is not None:\n",
    "            text = text + \",\".join(self.mains_infos[key][\"priors\"]) + ', '\n",
    "\n",
    "        ## likelihood params\n",
    "        #if self.mains_infos[key][\"params\"] is not None:\n",
    "        #    text = text + \", \".join(self.mains_infos[key][\"params\"])\n",
    "\n",
    "        # likelihood distribution\n",
    "        text = text + \": tfd.Independent(tfd.\" + self.mains_infos[key]['distribution'] + \"(\" \n",
    "        # likelihood formula\n",
    "        if self.mains_infos[key]['with_indices']:\n",
    "\n",
    "            if len(self.mains_infos[key]['params']['args'])>0:\n",
    "                for a in range(len(self.mains_infos[key]['params']['args'])):                        \n",
    "                    text = text + self.convert_indices(self.mains_infos[key]['params']['args'][a], self.float)+ ','\n",
    "            if len(self.mains_infos[key]['params']['kwargs'])>0:\n",
    "                for k in self.mains_infos[key]['params']['kwargs'].keys():\n",
    "                    text = text + str(k)+ ' = ' +  self.convert_indices(self.mains_infos[key]['params']['kwargs'][k], self.float) + ','\n",
    "\n",
    "            text = text + 'name =' + \"'\" + str(key) + \"'\" + \"), reinterpreted_batch_ndims=1)\"\n",
    "        else:\n",
    "            text = self.write_main_text_no_indices(self.mains_infos[key], text)\n",
    "            text = text + \", reinterpreted_batch_ndims=1)\"\n",
    "        result[self.mains_infos[key]['output']] = text\n",
    "\n",
    "    self.main_text = result\n",
    "    self.main_text\n"
   ]
  },
  {
   "cell_type": "code",
   "execution_count": 48,
   "metadata": {},
   "outputs": [
    {
     "name": "stdout",
     "output_type": "stream",
     "text": [
      "Normal\n",
      "['0.', '1.5']\n",
      "Exponential\n",
      "['1']\n"
     ]
    }
   ],
   "source": [
    "        self.tensor_prior()\n",
    "        write_main_text()\n",
    "        for key in self.main_text.keys():\n",
    "            self.tensor[key] = self.create_function_from_string(func_str = self.main_text[key], name = key)\n",
    "        self.tensor_dict = self.tensor\n",
    "        self.tensor = tfd.JointDistributionNamed(self.tensor)"
   ]
  },
  {
   "cell_type": "code",
   "execution_count": 53,
   "metadata": {},
   "outputs": [
    {
     "data": {
      "text/plain": [
       "{'phi': <tf.Tensor: shape=(1,), dtype=float32, numpy=array([0.8150762], dtype=float32)>,\n",
       " 'a': <tf.Tensor: shape=(2,), dtype=float32, numpy=array([0.6470657, 0.6607806], dtype=float32)>,\n",
       " 'y': <tf.Tensor: shape=(12,), dtype=float32, numpy=array([0., 4., 3., 4., 2., 4., 8., 4., 1., 1., 1., 4.], dtype=float32)>}"
      ]
     },
     "execution_count": 53,
     "metadata": {},
     "output_type": "execute_result"
    }
   ],
   "source": [
    "self.tensor.sample()"
   ]
  },
  {
   "cell_type": "code",
   "execution_count": 4,
   "metadata": {},
   "outputs": [
    {
     "data": {
      "text/plain": [
       "['a', 'gid', ['phi', '2.0']]"
      ]
     },
     "execution_count": 4,
     "metadata": {},
     "output_type": "execute_result"
    }
   ],
   "source": [
    "lambda a phi, args, kwargs:\n",
    "tfd.Independent(tfd.BetaBinomial(\n",
    "    tf.cast(12.0, dtype = tf.float32),\n",
    "    concentration1 =  tf.squeeze(tf.gather(a,tf.cast(df.gid.values, dtype=tf.int32), axis = -1)),\n",
    "    concentration2 = phi+2.0,name ='main'), reinterpreted_batch_ndims=1)"
   ]
  },
  {
   "cell_type": "code",
   "execution_count": 113,
   "metadata": {},
   "outputs": [
    {
     "data": {
      "text/plain": [
       "{'main': 'y ~ BetaBinomial(12, concentration1 = pbar, concentration2 = theta)',\n",
       " 'likelihood': 'pbar ~ a[gid]',\n",
       " 'likelihood2': 'theta ~ phi + 2.0',\n",
       " 'prior1': 'a ~ Normal(0.,1.5)',\n",
       " 'prior2': 'phi ~ Exponential(1)'}"
      ]
     },
     "execution_count": 113,
     "metadata": {},
     "output_type": "execute_result"
    }
   ],
   "source": [
    "self.f\n",
    "#TF doesn't allow multiple lmabdas\n",
    "# DO not create this:\n",
    "## phi = Exponential(1)\n",
    "## a = Normal(0.,1.5)\n",
    "## theta = phi + 2 \n",
    "## pbar = lambda a: transposr(a....) [index]\n",
    "##lambda pbar, phi: Indent(BetaBinomial(12, pbar, theta))\n",
    "\n",
    "#But this:\n",
    "#m= {}\n",
    "#m[\"p1\"] = tfd.Sample(tfd.Normal(0,1), sample_shape =1)\n",
    "#m[\"p2\"] = tfd.Sample(tfd.Normal(0,1), sample_shape =1)\n",
    "#m['main'] = lambda p1, p2:  tfd.Independent(tfd.Normal(p1*p2,1), reinterpreted_batch_ndims=1)\n",
    "#M =  tfd.JointDistributionNamed(m)\n",
    "#M\n"
   ]
  }
 ],
 "metadata": {
  "kernelspec": {
   "display_name": "Python 3",
   "language": "python",
   "name": "python3"
  },
  "language_info": {
   "codemirror_mode": {
    "name": "ipython",
    "version": 3
   },
   "file_extension": ".py",
   "mimetype": "text/x-python",
   "name": "python",
   "nbconvert_exporter": "python",
   "pygments_lexer": "ipython3",
   "version": "3.11.6"
  }
 },
 "nbformat": 4,
 "nbformat_minor": 2
}
